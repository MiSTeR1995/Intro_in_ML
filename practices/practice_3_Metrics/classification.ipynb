{
 "cells": [
  {
   "cell_type": "markdown",
   "id": "b8d84697-eeec-4ce3-8d5f-c0aa9c2a619e",
   "metadata": {},
   "source": [
    "# Импорты, воспроизводимость"
   ]
  },
  {
   "cell_type": "code",
   "execution_count": 1,
   "id": "596e6a24-71f8-47c8-9c02-4a4aa0bf9cab",
   "metadata": {},
   "outputs": [],
   "source": [
    "# ========== УСТАНОВКА (опционально для чистой среды) ==========\n",
    "# !pip install -q datasets scikit-learn tqdm torch torchvision torchaudio"
   ]
  },
  {
   "cell_type": "code",
   "execution_count": 2,
   "id": "5d9006d6-46d6-4cde-9462-ecd73a666b5a",
   "metadata": {},
   "outputs": [],
   "source": [
    "# ========== ИМПОРТЫ ==========\n",
    "import os, sys, random, math\n",
    "from dataclasses import dataclass\n",
    "\n",
    "import numpy as np\n",
    "from tqdm import tqdm\n",
    "\n",
    "import torch\n",
    "import torch.nn as nn\n",
    "import torch.optim as optim\n",
    "\n",
    "from datasets import load_dataset\n",
    "from sklearn.metrics import (\n",
    "    precision_recall_curve, roc_curve, auc,\n",
    "    f1_score, precision_score, recall_score, accuracy_score\n",
    ")\n"
   ]
  },
  {
   "cell_type": "code",
   "execution_count": 3,
   "id": "ea2f0394-7816-4df4-b363-daa3cc03bf3b",
   "metadata": {},
   "outputs": [
    {
     "name": "stdout",
     "output_type": "stream",
     "text": [
      "Python:  3.12.3\n",
      "PyTorch: 2.6.0+cu118\n"
     ]
    }
   ],
   "source": [
    "# ========== ДИАГНОСТИКА ВЕРСИЙ ==========\n",
    "print(f\"Python:  {sys.version.split()[0]}\")\n",
    "print(f\"PyTorch: {torch.__version__}\")\n"
   ]
  },
  {
   "cell_type": "code",
   "execution_count": 5,
   "id": "f7e5b587-a8f8-4d98-bf21-077358f0414c",
   "metadata": {},
   "outputs": [],
   "source": [
    "# ========== ВОСПРОИЗВОДИМОСТЬ ==========\n",
    "def set_global_seed(seed: int = 42) -> None:\n",
    "    \"\"\"Фиксирует ГСЧ для повторяемых результатов (Python/NumPy/PyTorch).\"\"\"\n",
    "    os.environ[\"PYTHONHASHSEED\"] = str(seed)\n",
    "    random.seed(seed)\n",
    "    np.random.seed(seed)\n",
    "    torch.manual_seed(seed)\n",
    "    if torch.cuda.is_available():\n",
    "        torch.cuda.manual_seed_all(seed)\n",
    "\n",
    "set_global_seed(42)\n"
   ]
  },
  {
   "cell_type": "code",
   "execution_count": 6,
   "id": "2daa83d4-9af0-4d88-8d0f-a7e551cfd39d",
   "metadata": {},
   "outputs": [
    {
     "name": "stdout",
     "output_type": "stream",
     "text": [
      "Device: cuda\n"
     ]
    }
   ],
   "source": [
    "# ========== УСТРОЙСТВО И ДЕТЕРМИНИЗМ ==========\n",
    "device = torch.device(\"cuda\" if torch.cuda.is_available() else \"cpu\")\n",
    "print(\"Device:\", device)\n",
    "\n",
    "if torch.cuda.is_available():\n",
    "    # Детерминизм на CUDA (чуть медленнее, но стабильнее)\n",
    "    torch.backends.cudnn.deterministic = True\n",
    "    torch.backends.cudnn.benchmark = False\n",
    "    # При необходимости:\n",
    "    # torch.use_deterministic_algorithms(True)  # может бросать исключения на недетерм. операциях\n"
   ]
  },
  {
   "cell_type": "markdown",
   "id": "f56d028f-3105-4986-b181-0afc96653438",
   "metadata": {},
   "source": [
    "### Загружаем датасет IMDB и проверяем распределение классов\n",
    "\n",
    "В этом практикуме мы будем использовать **IMDB** — классический датасет отзывов о фильмах.\n",
    "\n",
    "- Каждый пример состоит из текста отзыва и метки (`0` — негативный отзыв, `1` — позитивный отзыв).  \n",
    "- Набор данных поделен на два сплита: `train` (для обучения модели) и `test` (для финальной проверки).  \n",
    "- Мы будем решать задачу **бинарной классификации**: научимся предсказывать тональность текста (положительный или отрицательный отзыв).  \n",
    "- По ходу эксперимента мы:\n",
    "  1. Загрузим и посмотрим распределение классов.  \n",
    "  2. Сделаем подготовку данных для модели.  \n",
    "  3. Построим простую модель на PyTorch.  \n",
    "  4. Посчитаем и сравнивать разные метрики качества.  \n",
    "  5. Разберём, как метрики меняются при изменении порога классификации.\n"
   ]
  },
  {
   "cell_type": "code",
   "execution_count": 7,
   "id": "0091522a-fa06-4d32-aea5-551b14ad6df9",
   "metadata": {},
   "outputs": [
    {
     "name": "stdout",
     "output_type": "stream",
     "text": [
      "DatasetDict({\n",
      "    train: Dataset({\n",
      "        features: ['text', 'label'],\n",
      "        num_rows: 25000\n",
      "    })\n",
      "    test: Dataset({\n",
      "        features: ['text', 'label'],\n",
      "        num_rows: 25000\n",
      "    })\n",
      "    unsupervised: Dataset({\n",
      "        features: ['text', 'label'],\n",
      "        num_rows: 50000\n",
      "    })\n",
      "})\n"
     ]
    }
   ],
   "source": [
    "# ========== ДАННЫЕ: загрузка IMDB и проверка баланса ==========\n",
    "from datasets import load_dataset\n",
    "from collections import Counter\n",
    "\n",
    "DATA_CACHE_DIR = \"./data\"  # куда кэшируется датасет локально (ускоряет повторные запуски)\n",
    "raw_ds = load_dataset(\"imdb\", cache_dir=DATA_CACHE_DIR)  # скачает при первом запуске, дальше читает из кэша\n",
    "print(raw_ds)  # быстрый обзор: какие сплиты есть и их размер\n"
   ]
  },
  {
   "cell_type": "code",
   "execution_count": 8,
   "id": "1cd23b42-f5c4-4f37-84b0-06dbcd9472c8",
   "metadata": {},
   "outputs": [
    {
     "name": "stdout",
     "output_type": "stream",
     "text": [
      "label=0  text=I rented I AM CURIOUS-YELLOW from my video store because of all the controversy that surrounded it when it was first released in 1967. I also heard that at first it was seized by U.S. customs if it ever tried to enter this country, therefore being a fan of films considered \"controversial\" I really had to see this for myself.<br /><br />The plot is centered around a young Swedish drama student named Lena who wants to learn everything she can about life. In particular she wants to focus her attent...\n",
      "label=0  text=\"I Am Curious: Yellow\" is a risible and pretentious steaming pile. It doesn't matter what one's political views are because this film can hardly be taken seriously on any level. As for the claim that frontal male nudity is an automatic NC-17, that isn't true. I've seen R-rated films with male nudity. Granted, they only offer some fleeting views, but where are the R-rated films with gaping vulvas and flapping labia? Nowhere, because they don't exist. The same goes for those crappy cable shows: sc...\n"
     ]
    }
   ],
   "source": [
    "# ========== БЫСТРЫЙ ПРОСМОТР ПРИМЕРОВ ==========\n",
    "# В IMDB метка: 0 = негатив, 1 = позитив (важно помнить, какой класс \"позитивный\")\n",
    "for i in range(2):\n",
    "    ex = raw_ds[\"train\"][i]\n",
    "    # Показываем начало текста, чтобы понимать формат сырых данных\n",
    "    print(f\"label={ex['label']}  text={ex['text'][:500].replace('\\n',' ')}...\")\n"
   ]
  },
  {
   "cell_type": "code",
   "execution_count": 9,
   "id": "cabc67c7-ab61-45fd-b345-a6770d8cb02b",
   "metadata": {},
   "outputs": [
    {
     "name": "stdout",
     "output_type": "stream",
     "text": [
      "[train] size=25000, negatives=12500, positives=12500, pos_ratio=0.50\n",
      "[test] size=25000, negatives=12500, positives=12500, pos_ratio=0.50\n"
     ]
    }
   ],
   "source": [
    "# ========== РАСПРЕДЕЛЕНИЕ МЕТОК ==========\n",
    "def split_stats(ds_split, name=\"split\"):\n",
    "    \"\"\"\n",
    "    Печатаем размер и доли классов. Это критично для интерпретации метрик:\n",
    "    - при сильном дисбалансе Accuracy может быть обманчиво высокой,\n",
    "      поэтому дополнительно смотрим Precision/Recall.\n",
    "    \"\"\"\n",
    "    n = len(ds_split)\n",
    "    cnt = Counter(ds_split[\"label\"])  # считаем частоты 0/1\n",
    "    pos = cnt.get(1, 0)\n",
    "    neg = cnt.get(0, 0)\n",
    "    pos_ratio = pos / n if n else float(\"nan\")\n",
    "    print(f\"[{name}] size={n}, negatives={neg}, positives={pos}, pos_ratio={pos_ratio:.2f}\")\n",
    "\n",
    "# Проверим оба сплита — важно, чтобы распределение train и test было сопоставимым\n",
    "split_stats(raw_ds[\"train\"], name=\"train\")\n",
    "split_stats(raw_ds[\"test\"],  name=\"test\")\n"
   ]
  },
  {
   "cell_type": "markdown",
   "id": "d0362f33-e8c3-428d-afec-072c6abc1c49",
   "metadata": {},
   "source": [
    "# Токенизация и словарь (без предобученных моделей по типу семейства BeRT) ===\n",
    "Задача: превратить текст (строки) в последовательности числовых идентификаторов (индексы слов).\n",
    "\n",
    "План:\n",
    "1) простая токенизация (разбиение на слова),\n",
    "2) подсчёт частот слов ТОЛЬКО по train-сплиту,\n",
    "3) построение словаря (слово -> индекс), резерв индекса 0 под <unk>,\n",
    "4) функции encode/decode,\n",
    "5) понятные проверки: топ слов, превью текста, (слово,индекс), доля <unk>, покрытие словарём."
   ]
  },
  {
   "cell_type": "code",
   "execution_count": 10,
   "id": "f87e1bd4-f1a1-492b-ae9d-30b687f4b254",
   "metadata": {},
   "outputs": [
    {
     "name": "stdout",
     "output_type": "stream",
     "text": [
      "[Словарь] размер (включая <unk>): 30001\n",
      "[Словарь] первые 20 ключей: ['<unk>', 'the', 'a', 'and', 'of', 'to', 'is', 'in', 'i', 'this', 'it', 'that', 'was', 'as', 'for', 'with', 'but', 'on', 'movie', 'his', 'not', 'are', 'film', 'you', 'have', 'he', 'be', 'at', 'one', 'by', 'an', 'they', 'all', 'from', 'who', 'like', 'so', 'just', 'or', \"it's\", 'has', 'her', 'about', 'if', 'some', 'what', 'out', 'there', 'when', 'very']\n"
     ]
    }
   ],
   "source": [
    "# ========== ТОКЕНИЗАЦИЯ И ПОСТРОЕНИЕ СЛОВАРЯ (train-only, избегаем data leakage) ==========\n",
    "\n",
    "from collections import Counter as TokenFrequencyCounter\n",
    "import re\n",
    "import numpy as np\n",
    "\n",
    "# --- Гиперпараметры словаря ---\n",
    "MIN_TOKEN_FREQUENCY: int = 2        # токены с частотой < MIN_TOKEN_FREQUENCY маппятся в <unk>\n",
    "MAX_VOCABULARY_SIZE: int = 30_000   # верхняя граница числа токенов (без учёта спец-токенов), отсортированных по частоте\n",
    "\n",
    "def simple_tokenize_imdb(review_text: str) -> list[str]:\n",
    "    \"\"\"\n",
    "    Мини-токенизатор под IMDB:\n",
    "    1) Нормализуем HTML-разметку: <br>, <br/>, <br /> → пробел.\n",
    "    2) Приводим к нижнему регистру и обрезаем крайние пробелы.\n",
    "    3) Разделяем по пробельным символам.\n",
    "    \"\"\"\n",
    "    review_text = re.sub(r\"<br\\s*/?>\", \" \", review_text, flags=re.IGNORECASE)\n",
    "    return review_text.lower().strip().split()\n",
    "\n",
    "# --- Частоты считаем ТОЛЬКО на TRAIN (без утечки валидации/теста) ---\n",
    "token_frequency_counter: TokenFrequencyCounter[str] = TokenFrequencyCounter()\n",
    "for train_example in raw_ds[\"train\"]:\n",
    "    tokens_in_example = simple_tokenize_imdb(train_example[\"text\"])\n",
    "    token_frequency_counter.update(tokens_in_example)\n",
    "\n",
    "# --- Фильтрация и усечение словаря по частоте ---\n",
    "filtered_token_items: list[tuple[str, int]] = [\n",
    "    (token, count) for token, count in token_frequency_counter.items()\n",
    "    if count >= MIN_TOKEN_FREQUENCY\n",
    "]\n",
    "filtered_token_items.sort(key=lambda pair: pair[1], reverse=True)\n",
    "top_token_items: list[tuple[str, int]] = filtered_token_items[:MAX_VOCABULARY_SIZE]\n",
    "\n",
    "# --- Отображения: string→index (stoi) и index→string (itos), <unk>=0 ---\n",
    "STRING_TO_INDEX: dict[str, int] = {\"<unk>\": 0}\n",
    "for running_index, (token, _) in enumerate(top_token_items, start=1):\n",
    "    STRING_TO_INDEX[token] = running_index\n",
    "\n",
    "INDEX_TO_STRING: dict[int, str] = {index: token for token, index in STRING_TO_INDEX.items()}\n",
    "\n",
    "print(f\"[Словарь] размер (включая <unk>): {len(STRING_TO_INDEX)}\")\n",
    "print(\"[Словарь] первые 20 ключей:\", list(STRING_TO_INDEX.keys())[:50])\n"
   ]
  },
  {
   "cell_type": "code",
   "execution_count": 11,
   "id": "2ac38a51-319b-43ef-a93f-0f6de22fe4fd",
   "metadata": {},
   "outputs": [],
   "source": [
    "# ========== КОДИРОВАНИЕ/ДЕКОДИРОВАНИЕ (OOV → 0=<unk>) ==========\n",
    "\n",
    "def encode_text_to_token_ids(review_text: str) -> np.ndarray:\n",
    "    \"\"\"\n",
    "    Строка → массив индексов словаря (np.int64).\n",
    "    Неизвестные токены (OOV) маппятся в 0 (<unk>).\n",
    "    \"\"\"\n",
    "    token_list = simple_tokenize_imdb(review_text)\n",
    "    if not token_list:\n",
    "        return np.array([], dtype=np.int64)\n",
    "    token_id_sequence = [STRING_TO_INDEX.get(token, 0) for token in token_list]\n",
    "    return np.array(token_id_sequence, dtype=np.int64)\n",
    "\n",
    "def decode_token_ids_to_pairs(token_id_sequence: np.ndarray, max_tokens_to_show: int = 20) -> list[tuple[str, int]]:\n",
    "    \"\"\"\n",
    "    Диагностика: вернуть первые max_tokens_to_show пар (токен|'<unk>', индекс).\n",
    "    Удобно контролировать долю <unk> и артефакты токенизации.\n",
    "    \"\"\"\n",
    "    preview_pairs: list[tuple[str, int]] = []\n",
    "    for token_id in token_id_sequence[:max_tokens_to_show]:\n",
    "        int_token_id = int(token_id)\n",
    "        preview_pairs.append((INDEX_TO_STRING.get(int_token_id, \"<unk>\"), int_token_id))\n",
    "    return preview_pairs\n"
   ]
  },
  {
   "cell_type": "code",
   "execution_count": 12,
   "id": "9ac1b90d-8266-441e-a8b4-f817580003e0",
   "metadata": {},
   "outputs": [
    {
     "name": "stdout",
     "output_type": "stream",
     "text": [
      "[Демо] пары (токен, индекс): [('the', 1), ('<unk>', 0)]\n"
     ]
    }
   ],
   "source": [
    "# ========== ДЕМО-ПРОВЕРКА: известный токен + OOV-токен ==========\n",
    "\n",
    "most_frequent_known_token: str = top_token_items[0][0] if top_token_items else \"the\"\n",
    "intentionally_oov_token: str = \"supercalifragilisticexpialidocious\"  # заведомо OOV\n",
    "demo_token_ids: np.ndarray = encode_text_to_token_ids(\n",
    "    f\"{most_frequent_known_token} {intentionally_oov_token}\"\n",
    ")\n",
    "print(\"[Демо] пары (токен, индекс):\", decode_token_ids_to_pairs(demo_token_ids, max_tokens_to_show=5))\n",
    "# Ожидание: второй элемент — ('<unk>', 0)\n"
   ]
  },
  {
   "cell_type": "code",
   "execution_count": 14,
   "id": "9f5e0a7e-0219-4c76-921c-4edcc1d5aa46",
   "metadata": {},
   "outputs": [
    {
     "name": "stdout",
     "output_type": "stream",
     "text": [
      "[Пример] длина последовательности: 285\n",
      "[Пример] <unk>: 10 шт. (3.51% от длины)\n",
      "[Пример] первые 25 пар (токен, индекс): [('i', 8), ('rented', 1494), ('i', 8), ('am', 222), ('<unk>', 0), ('from', 33), ('my', 53), ('video', 436), ('store', 1503), ('because', 74), ('of', 4), ('all', 32), ('the', 1), ('controversy', 9787), ('that', 11), ('surrounded', 3484), ('it', 10), ('when', 48), ('it', 10), ('was', 12), ('first', 79), ('released', 700), ('in', 7), ('1967.', 26782), ('i', 8), ('also', 80), ('heard', 508), ('that', 11), ('at', 27), ('first', 79), ('it', 10), ('was', 12), ('seized', 26783), ('by', 29), ('u.s.', 2415), ('customs', 14126), ('if', 43), ('it', 10), ('ever', 122), ('tried', 737), ('to', 5), ('enter', 2611), ('this', 9), ('country,', 4222), ('therefore', 1911), ('being', 97), ('a', 2), ('fan', 373), ('of', 4), ('films', 128)]\n"
     ]
    }
   ],
   "source": [
    "# ========== ДИАГНОСТИКА НА РЕАЛЬНОМ ПРИМЕРЕ И ДОЛЯ <unk> ==========\n",
    "\n",
    "train_example_0 = raw_ds[\"train\"][0]\n",
    "encoded_token_ids: np.ndarray = encode_text_to_token_ids(train_example_0[\"text\"])\n",
    "\n",
    "unknown_token_count: int = int((encoded_token_ids == 0).sum())\n",
    "unknown_token_ratio: float = (\n",
    "    unknown_token_count / len(encoded_token_ids) if len(encoded_token_ids) > 0 else 0.0\n",
    ")\n",
    "\n",
    "print(f\"[Пример] длина последовательности: {len(encoded_token_ids)}\")\n",
    "print(f\"[Пример] <unk>: {unknown_token_count} шт. ({unknown_token_ratio:.2%} от длины)\")\n",
    "print(\"[Пример] первые 25 пар (токен, индекс):\", decode_token_ids_to_pairs(encoded_token_ids, max_tokens_to_show=50))\n"
   ]
  },
  {
   "cell_type": "code",
   "execution_count": 15,
   "id": "cecdbbd7-7fb2-4108-bd30-2bf53c12e52c",
   "metadata": {},
   "outputs": [
    {
     "name": "stdout",
     "output_type": "stream",
     "text": [
      "[Покрытие] TRAIN: 94.19% | TEST: 93.24%\n",
      "Примечание: тестовое покрытие обычно ниже, т.к. словарь строился по train (встречаются новые слова).\n"
     ]
    }
   ],
   "source": [
    "# ========== ПОКРЫТИЕ СЛОВАРЁМ (средняя доля известных токенов, train/test) ==========\n",
    "\n",
    "def estimate_vocabulary_coverage(\n",
    "    dataset_split, \n",
    "    num_random_samples: int = 500, \n",
    "    rng_seed: int = 42\n",
    ") -> float:\n",
    "    \"\"\"\n",
    "    Средняя доля известных токенов (id != 0) в случайной подвыборке из split.\n",
    "    Возвращает число в [0, 1] или NaN, если валидных примеров нет.\n",
    "    \"\"\"\n",
    "    random_number_generator = np.random.default_rng(rng_seed)\n",
    "    total_examples: int = len(dataset_split)\n",
    "    if total_examples == 0:\n",
    "        return float(\"nan\")\n",
    "\n",
    "    sampled_indices = random_number_generator.choice(\n",
    "        total_examples, size=min(num_random_samples, total_examples), replace=False\n",
    "    )\n",
    "\n",
    "    known_token_ratios: list[float] = []\n",
    "    for sampled_index in sampled_indices:\n",
    "        token_id_sequence = encode_text_to_token_ids(dataset_split[int(sampled_index)][\"text\"])\n",
    "        if len(token_id_sequence) == 0:\n",
    "            continue\n",
    "        per_example_known_ratio = 1.0 - (token_id_sequence == 0).sum() / len(token_id_sequence)\n",
    "        known_token_ratios.append(float(per_example_known_ratio))\n",
    "\n",
    "    return float(np.mean(known_token_ratios)) if known_token_ratios else float(\"nan\")\n",
    "\n",
    "train_known_ratio_mean: float = estimate_vocabulary_coverage(raw_ds[\"train\"])\n",
    "test_known_ratio_mean: float  = estimate_vocabulary_coverage(raw_ds[\"test\"])\n",
    "print(f\"[Покрытие] TRAIN: {train_known_ratio_mean:.2%} | TEST: {test_known_ratio_mean:.2%}\")\n",
    "print(\"Примечание: тестовое покрытие обычно ниже, т.к. словарь строился по train (встречаются новые слова).\")\n"
   ]
  },
  {
   "cell_type": "markdown",
   "id": "01499684-475b-4575-b712-0a205fefa2e5",
   "metadata": {},
   "source": [
    "# Dataset + DataLoader с collate_fn для текстов разной длины\n",
    "Что делаем в этой ячейке:\n",
    "1) Кодируем тексты из сплитов в последовательности индексов (используем encode из предыдущей ячейки).\n",
    "2) Делаем из исходного train стратифицированное разбиение на train/val (например, 80/20).\n",
    "3) Создаём Dataset-классы для train/val/test.\n",
    "4) Пишем collate_fn (сборка батча без паддинга: \"лента токенов\" + offsets).\n",
    "5) Создаём DataLoader'ы и показываем формы батчей, чтобы было наглядно.\n"
   ]
  },
  {
   "cell_type": "code",
   "execution_count": 16,
   "id": "e26b67f3-b999-4850-8a3d-f6fc0cdbcc32",
   "metadata": {},
   "outputs": [
    {
     "name": "stdout",
     "output_type": "stream",
     "text": [
      "[Кодирование] TRAIN примеров: 25000\n",
      "[Кодирование] TEST  примеров: 25000\n"
     ]
    }
   ],
   "source": [
    "# Кодируем тексты один раз: сырой текст -> последовательность индексов словаря.\n",
    "# Так не тратим время на повторное кодирование в каждой эпохе.\n",
    "import numpy as np\n",
    "\n",
    "encoded_train_texts = [\n",
    "    encode_text_to_token_ids(example[\"text\"])   # np.ndarray[int64] формы (seq_len,)\n",
    "    for example in raw_ds[\"train\"]\n",
    "]\n",
    "train_labels_vector = np.array(\n",
    "    [int(example[\"label\"]) for example in raw_ds[\"train\"]],  # метки 0/1\n",
    "    dtype=np.int64\n",
    ")\n",
    "\n",
    "encoded_test_texts = [\n",
    "    encode_text_to_token_ids(example[\"text\"])\n",
    "    for example in raw_ds[\"test\"]\n",
    "]\n",
    "test_labels_vector = np.array(\n",
    "    [int(example[\"label\"]) for example in raw_ds[\"test\"]],\n",
    "    dtype=np.int64\n",
    ")\n",
    "\n",
    "print(\"[Кодирование] TRAIN примеров:\", len(encoded_train_texts))\n",
    "print(\"[Кодирование] TEST  примеров:\", len(encoded_test_texts))\n"
   ]
  },
  {
   "cell_type": "code",
   "execution_count": 17,
   "id": "1ccfcfd6-72e6-45e1-9c2e-de9bf1b9be8f",
   "metadata": {},
   "outputs": [
    {
     "name": "stdout",
     "output_type": "stream",
     "text": [
      "[Разбиение] TRAIN: 20000\n",
      "[Разбиение] VAL:   5000\n",
      "[Разбиение] TEST:  25000\n",
      "  [TRAIN] 0: 10000 | 1: 10000 | доля_позитивного=0.500\n",
      "  [VAL] 0: 2500 | 1: 2500 | доля_позитивного=0.500\n",
      "  [TEST] 0: 12500 | 1: 12500 | доля_позитивного=0.500\n"
     ]
    }
   ],
   "source": [
    "# Разбиваем TRAIN на TRAIN/VAL с сохранением пропорций классов.\n",
    "# Сид фиксируем до создания сплиттера: разбиение будет повторяемым.\n",
    "from sklearn.model_selection import StratifiedShuffleSplit\n",
    "\n",
    "RNG_SEED = 42\n",
    "set_global_seed(RNG_SEED)  # единый вызов: Python/NumPy/PyTorch\n",
    "\n",
    "validation_fraction = 0.20\n",
    "stratified_splitter = StratifiedShuffleSplit(\n",
    "    n_splits=1,                    # одно разбиение (~80/20)\n",
    "    test_size=validation_fraction,\n",
    "    random_state=RNG_SEED\n",
    ")\n",
    "\n",
    "# X-заглушка: реальные признаки здесь не нужны, стратификация идёт по y.\n",
    "train_index_array, val_index_array = next(\n",
    "    stratified_splitter.split(np.zeros(len(train_labels_vector)), train_labels_vector)\n",
    ")\n",
    "\n",
    "# Индексируем уже закодированные последовательности и метки.\n",
    "encoded_texts_train_split = [encoded_train_texts[i] for i in train_index_array]\n",
    "labels_train_split        =  train_labels_vector[train_index_array]\n",
    "\n",
    "encoded_texts_val_split   = [encoded_train_texts[i] for i in val_index_array]\n",
    "labels_val_split          =  train_labels_vector[val_index_array]\n",
    "\n",
    "print(\"[Разбиение] TRAIN:\", len(encoded_texts_train_split))\n",
    "print(\"[Разбиение] VAL:  \", len(encoded_texts_val_split))\n",
    "print(\"[Разбиение] TEST: \", len(encoded_test_texts))\n",
    "\n",
    "def print_class_balance(split_name: str, labels: np.ndarray) -> None:\n",
    "    num_negative = int((labels == 0).sum())\n",
    "    num_positive = int((labels == 1).sum())\n",
    "    total = max(1, num_negative + num_positive)\n",
    "    print(f\"  [{split_name}] 0: {num_negative} | 1: {num_positive} | доля_позитивного={num_positive/total:.3f}\")\n",
    "\n",
    "print_class_balance(\"TRAIN\", labels_train_split)\n",
    "print_class_balance(\"VAL\",   labels_val_split)\n",
    "print_class_balance(\"TEST\",  test_labels_vector)\n"
   ]
  },
  {
   "cell_type": "code",
   "execution_count": 18,
   "id": "90e4b6fc-c07c-4c31-bbf4-310bd5fe30de",
   "metadata": {},
   "outputs": [
    {
     "name": "stdout",
     "output_type": "stream",
     "text": [
      "[Dataset] len(train) = 20000\n",
      "[Dataset] len(val)   = 5000\n",
      "[Dataset] len(test)  = 25000\n"
     ]
    }
   ],
   "source": [
    "# Dataset-обёртка: соглашение PyTorch — данные должны поддерживать __len__ и __getitem__.\n",
    "# Имя \"TextDataset\" показывает, что объект инкапсулирует корпус текстов + метки и отдаёт элементы по индексу.\n",
    "# Такой интерфейс сразу дружит с DataLoader и упрощает замену источника данных (файлы, БД, кэш и т.д.).\n",
    "import torch\n",
    "\n",
    "class TextDataset(torch.utils.data.Dataset):\n",
    "    def __init__(self, texts: list[np.ndarray], labels: np.ndarray):\n",
    "        assert len(texts) == len(labels), \"Длины texts и labels должны совпадать.\"\n",
    "        self.texts = texts          # список последовательностей индексов, длины могут отличаться\n",
    "        self.labels = labels        # np.ndarray[int64] с 0/1\n",
    "\n",
    "    def __len__(self) -> int:\n",
    "        return len(self.texts)      # позволяет DataLoader знать размер датасета\n",
    "\n",
    "    def __getitem__(self, sample_index: int):\n",
    "        # Возвращаем элементарный образец: последовательность индексов и целевую метку.\n",
    "        token_id_sequence_np = self.texts[sample_index]   # np.ndarray[int64] формы (seq_len,)\n",
    "        label_int = int(self.labels[sample_index])        # приводим к python int\n",
    "        return token_id_sequence_np, label_int\n",
    "\n",
    "train_dataset = TextDataset(encoded_texts_train_split, labels_train_split)\n",
    "val_dataset   = TextDataset(encoded_texts_val_split,   labels_val_split)\n",
    "test_dataset  = TextDataset(encoded_test_texts,        test_labels_vector)\n",
    "\n",
    "print(\"[Dataset] len(train) =\", len(train_dataset))\n",
    "print(\"[Dataset] len(val)   =\", len(val_dataset))\n",
    "print(\"[Dataset] len(test)  =\", len(test_dataset))\n"
   ]
  },
  {
   "cell_type": "code",
   "execution_count": 19,
   "id": "c1eac4c0-6b25-471d-adea-de231707de8b",
   "metadata": {},
   "outputs": [],
   "source": [
    "# ---------------------------\n",
    "# 4) collate_fn: собираем батч без паддинга (concatenation + offsets)\n",
    "# ---------------------------\n",
    "# Склеиваем индексы всех текстов батча в один 1D-вектор concatenated_token_ids,\n",
    "# а в sequence_start_offsets храним начало каждого текста внутри этого вектора.\n",
    "def collate_to_bag(batch):\n",
    "    \"\"\"\n",
    "    batch: список из N элементов [(np.ndarray токенов, метка), ...]\n",
    "    Возвращает:\n",
    "      concatenated_token_ids : LongTensor[sum_len] — все токены батча подряд\n",
    "      sequence_start_offsets : LongTensor[N]       — начало каждого текста в concatenated_token_ids\n",
    "      labels                 : LongTensor[N]       — метки (0/1) для каждого текста\n",
    "    \"\"\"\n",
    "    labels_list = []\n",
    "    sequence_start_offsets_list = [0]\n",
    "    pieces = []\n",
    "    running_total = 0\n",
    "\n",
    "    for token_ids_np, y in batch:\n",
    "        t = torch.as_tensor(token_ids_np, dtype=torch.long)\n",
    "        pieces.append(t)\n",
    "        labels_list.append(int(y))\n",
    "        running_total += int(t.numel())\n",
    "        sequence_start_offsets_list.append(running_total)\n",
    "\n",
    "    concatenated_token_ids = torch.cat(pieces, dim=0) if pieces else torch.empty(0, dtype=torch.long)\n",
    "    sequence_start_offsets = torch.tensor(sequence_start_offsets_list[:-1], dtype=torch.long)\n",
    "    labels = torch.tensor(labels_list, dtype=torch.long)\n",
    "    return concatenated_token_ids, sequence_start_offsets, labels\n"
   ]
  },
  {
   "cell_type": "code",
   "execution_count": 20,
   "id": "df74d3fb-331b-4b36-9262-84cb15e439e5",
   "metadata": {},
   "outputs": [
    {
     "name": "stdout",
     "output_type": "stream",
     "text": [
      "[DataLoader] train/val/test готовы; batch_size = 256\n"
     ]
    }
   ],
   "source": [
    "# DataLoader’ы. Для повторяемого shuffle на TRAIN передаём явный генератор с сидом.\n",
    "set_global_seed(RNG_SEED)  # ноутбуки часто запускают ячейки вразнобой, повторяем фиксацию\n",
    "\n",
    "BATCH_SIZE = 256                               # под CPU обычно 64–128; под GPU 256 часто ок\n",
    "torch_shuffle_generator = torch.Generator().manual_seed(RNG_SEED)\n",
    "\n",
    "train_loader = torch.utils.data.DataLoader(\n",
    "    train_dataset,\n",
    "    batch_size=BATCH_SIZE,\n",
    "    shuffle=True,                 # порядок примеров внутри эпохи перемешивается одинаково при каждом запуске\n",
    "    collate_fn=collate_to_bag,\n",
    "    num_workers=0,\n",
    "    generator=torch_shuffle_generator,  # фиксируем последовательность батчей\n",
    ")\n",
    "\n",
    "val_loader = torch.utils.data.DataLoader(\n",
    "    val_dataset,\n",
    "    batch_size=BATCH_SIZE,\n",
    "    shuffle=False,\n",
    "    collate_fn=collate_to_bag,\n",
    "    num_workers=0,\n",
    ")\n",
    "\n",
    "test_loader = torch.utils.data.DataLoader(\n",
    "    test_dataset,\n",
    "    batch_size=BATCH_SIZE,\n",
    "    shuffle=False,\n",
    "    collate_fn=collate_to_bag,\n",
    "    num_workers=0,\n",
    ")\n",
    "\n",
    "print(f\"[DataLoader] train/val/test готовы; batch_size = {BATCH_SIZE}\")\n"
   ]
  },
  {
   "cell_type": "code",
   "execution_count": 21,
   "id": "977e7126-d600-4984-ab17-25b908788933",
   "metadata": {},
   "outputs": [
    {
     "name": "stdout",
     "output_type": "stream",
     "text": [
      "\n",
      "[TRAIN] формы первого батча:\n",
      "  concatenated_token_ids.shape: (64895,)  ← общая длина токенов (1D)\n",
      "  sequence_start_offsets.shape: (256,)  ← по одному начальному индексу на текст\n",
      "  labels.shape:                 (256,)  ← по одной метке на текст\n",
      "\n",
      "[VAL] формы первого батча:\n",
      "  concatenated_token_ids.shape: (64182,)  ← общая длина токенов (1D)\n",
      "  sequence_start_offsets.shape: (256,)  ← по одному начальному индексу на текст\n",
      "  labels.shape:                 (256,)  ← по одной метке на текст\n",
      "\n",
      "[TEST] формы первого батча:\n",
      "  concatenated_token_ids.shape: (57721,)  ← общая длина токенов (1D)\n",
      "  sequence_start_offsets.shape: (256,)  ← по одному начальному индексу на текст\n",
      "  labels.shape:                 (256,)  ← по одной метке на текст\n"
     ]
    }
   ],
   "source": [
    "# ---------------------------\n",
    "# 6) Наглядная проверка форм батчей (по одному батчу из каждого лоадера)\n",
    "# ---------------------------\n",
    "def show_batch_shapes(name, loader):\n",
    "    concatenated_token_ids_ex, sequence_start_offsets_ex, labels_ex = next(iter(loader))\n",
    "    print(f\"\\n[{name}] формы первого батча:\")\n",
    "    print(\"  concatenated_token_ids.shape:\", tuple(concatenated_token_ids_ex.shape), \" ← общая длина токенов (1D)\")\n",
    "    print(\"  sequence_start_offsets.shape:\", tuple(sequence_start_offsets_ex.shape), \" ← по одному начальному индексу на текст\")\n",
    "    print(\"  labels.shape:                \", tuple(labels_ex.shape),                \" ← по одной метке на текст\")\n",
    "\n",
    "show_batch_shapes(\"TRAIN\", train_loader)\n",
    "show_batch_shapes(\"VAL\",   val_loader)\n",
    "show_batch_shapes(\"TEST\",  test_loader)"
   ]
  },
  {
   "cell_type": "markdown",
   "id": "53ae91e7-0752-4309-b88f-85c3aaebce34",
   "metadata": {},
   "source": [
    "# Простейшая модель (EmbeddingBag → Linear) + обучение и метрики на валидации\n",
    "Что делаем:\n",
    "- создаём модель, которая преобразует последовательность слов в один вектор (среднее эмбеддингов), а затем линейным слоем предсказывает \"насколько текст позитивный\" (логит).\n",
    "- обучаем несколько эпох на train_loader.\n",
    "- после каждой эпохи считаем метрики на val_loader (Accuracy/Precision/Recall/F1 при пороге 0.5)."
   ]
  },
  {
   "cell_type": "code",
   "execution_count": 22,
   "id": "5308553c-db9c-4df1-b8b1-02db4cd7c6dd",
   "metadata": {},
   "outputs": [],
   "source": [
    "import torch\n",
    "import torch.nn as nn\n",
    "import torch.optim as optim\n",
    "from tqdm.auto import tqdm\n",
    "import numpy as np\n",
    "from sklearn.metrics import accuracy_score, precision_score, recall_score, f1_score\n",
    "\n",
    "class SentimentBagModel(nn.Module):\n",
    "    \"\"\"EmbeddingBag(mode='mean') → усреднённый вектор текста → Linear → логит.\"\"\"\n",
    "    def __init__(self, vocab_size: int, emb_dim: int):\n",
    "        super().__init__()\n",
    "        self.emb = nn.EmbeddingBag(num_embeddings=vocab_size, embedding_dim=emb_dim, mode='mean')\n",
    "        self.fc  = nn.Linear(emb_dim, 1)\n",
    "\n",
    "    def forward(self, concatenated_token_ids: torch.Tensor, sequence_start_offsets: torch.Tensor) -> torch.Tensor:\n",
    "        x = self.emb(concatenated_token_ids, sequence_start_offsets)  # [batch, emb_dim]\n",
    "        logits = self.fc(x).squeeze(1)                                # [batch]\n",
    "        return logits  # под BCEWithLogitsLoss\n",
    "\n",
    "def train_one_epoch(model, loader, optimizer, criterion, device) -> float:\n",
    "    model.train()\n",
    "    total_loss, total_examples = 0.0, 0\n",
    "    for concatenated_token_ids, sequence_start_offsets, labels in tqdm(loader, desc=\"train\", leave=False):\n",
    "        concatenated_token_ids = concatenated_token_ids.to(device)\n",
    "        sequence_start_offsets = sequence_start_offsets.to(device)\n",
    "        labels_f = labels.to(device).float()\n",
    "\n",
    "        optimizer.zero_grad(set_to_none=True)\n",
    "        logits = model(concatenated_token_ids, sequence_start_offsets)\n",
    "        loss = criterion(logits, labels_f)\n",
    "        loss.backward()\n",
    "        optimizer.step()\n",
    "\n",
    "        bs = labels.size(0)\n",
    "        total_loss += float(loss.item()) * bs\n",
    "        total_examples += bs\n",
    "    return total_loss / max(1, total_examples)\n",
    "\n",
    "@torch.no_grad()\n",
    "def evaluate_on_loader(model, loader, device, threshold: float, criterion, name: str = \"VAL\"):\n",
    "    model.eval()\n",
    "    total_loss, total_examples = 0.0, 0\n",
    "    all_probs, all_true = [], []\n",
    "    for concatenated_token_ids, sequence_start_offsets, labels in tqdm(loader, desc=name.lower(), leave=False):\n",
    "        concatenated_token_ids = concatenated_token_ids.to(device)\n",
    "        sequence_start_offsets = sequence_start_offsets.to(device)\n",
    "        labels_f = labels.to(device).float()\n",
    "\n",
    "        logits = model(concatenated_token_ids, sequence_start_offsets)\n",
    "        loss   = criterion(logits, labels_f)\n",
    "        probs  = torch.sigmoid(logits)\n",
    "\n",
    "        bs = labels.size(0)\n",
    "        total_loss += float(loss.item()) * bs\n",
    "        total_examples += bs\n",
    "        all_probs.append(probs.cpu().numpy())\n",
    "        all_true.append(labels.cpu().numpy())\n",
    "\n",
    "    y_score = np.concatenate(all_probs)\n",
    "    y_true  = np.concatenate(all_true)\n",
    "    y_pred  = (y_score >= threshold).astype(np.int64)\n",
    "\n",
    "    metrics = {\n",
    "        \"loss\":      total_loss / max(1, total_examples),\n",
    "        \"accuracy\":  float(accuracy_score(y_true, y_pred)),\n",
    "        \"precision\": float(precision_score(y_true, y_pred, zero_division=0)),\n",
    "        \"recall\":    float(recall_score(y_true, y_pred, zero_division=0)),\n",
    "        \"f1\":        float(f1_score(y_true, y_pred, zero_division=0)),\n",
    "    }\n",
    "    return metrics, y_score, y_true\n"
   ]
  },
  {
   "cell_type": "code",
   "execution_count": 31,
   "id": "ed9f68f6-096a-4ac8-9e1b-d49a21e1e271",
   "metadata": {},
   "outputs": [
    {
     "name": "stdout",
     "output_type": "stream",
     "text": [
      "\n",
      "=== Эпоха 1/25 ===\n"
     ]
    },
    {
     "data": {
      "application/vnd.jupyter.widget-view+json": {
       "model_id": "ad14431a121d415da1dbfc2c2780ca11",
       "version_major": 2,
       "version_minor": 0
      },
      "text/plain": [
       "train:   0%|          | 0/79 [00:00<?, ?it/s]"
      ]
     },
     "metadata": {},
     "output_type": "display_data"
    },
    {
     "name": "stdout",
     "output_type": "stream",
     "text": [
      "train: loss=0.6930\n"
     ]
    },
    {
     "data": {
      "application/vnd.jupyter.widget-view+json": {
       "model_id": "d1a22013d4474232808bb67ebd2fde54",
       "version_major": 2,
       "version_minor": 0
      },
      "text/plain": [
       "val:   0%|          | 0/20 [00:00<?, ?it/s]"
      ]
     },
     "metadata": {},
     "output_type": "display_data"
    },
    {
     "name": "stdout",
     "output_type": "stream",
     "text": [
      "val:   loss=0.6918  Acc=0.527  P=0.536  R=0.407  F1=0.463\n",
      "  → обновили лучшую по F1 модель\n",
      "\n",
      "=== Эпоха 2/25 ===\n"
     ]
    },
    {
     "data": {
      "application/vnd.jupyter.widget-view+json": {
       "model_id": "0fbd4d8a271f4d29957c28631706c709",
       "version_major": 2,
       "version_minor": 0
      },
      "text/plain": [
       "train:   0%|          | 0/79 [00:00<?, ?it/s]"
      ]
     },
     "metadata": {},
     "output_type": "display_data"
    },
    {
     "name": "stdout",
     "output_type": "stream",
     "text": [
      "train: loss=0.6904\n"
     ]
    },
    {
     "data": {
      "application/vnd.jupyter.widget-view+json": {
       "model_id": "aaf515914f224ff49239174cf227acc3",
       "version_major": 2,
       "version_minor": 0
      },
      "text/plain": [
       "val:   0%|          | 0/20 [00:00<?, ?it/s]"
      ]
     },
     "metadata": {},
     "output_type": "display_data"
    },
    {
     "name": "stdout",
     "output_type": "stream",
     "text": [
      "val:   loss=0.6896  Acc=0.553  P=0.553  R=0.549  F1=0.551\n",
      "  → обновили лучшую по F1 модель\n",
      "\n",
      "=== Эпоха 3/25 ===\n"
     ]
    },
    {
     "data": {
      "application/vnd.jupyter.widget-view+json": {
       "model_id": "21e4c959f8644002a1b64aec5edb7d88",
       "version_major": 2,
       "version_minor": 0
      },
      "text/plain": [
       "train:   0%|          | 0/79 [00:00<?, ?it/s]"
      ]
     },
     "metadata": {},
     "output_type": "display_data"
    },
    {
     "name": "stdout",
     "output_type": "stream",
     "text": [
      "train: loss=0.6880\n"
     ]
    },
    {
     "data": {
      "application/vnd.jupyter.widget-view+json": {
       "model_id": "7dbb68cf996142029c94209a62e7f129",
       "version_major": 2,
       "version_minor": 0
      },
      "text/plain": [
       "val:   0%|          | 0/20 [00:00<?, ?it/s]"
      ]
     },
     "metadata": {},
     "output_type": "display_data"
    },
    {
     "name": "stdout",
     "output_type": "stream",
     "text": [
      "val:   loss=0.6874  Acc=0.580  P=0.576  R=0.607  F1=0.591\n",
      "  → обновили лучшую по F1 модель\n",
      "\n",
      "=== Эпоха 4/25 ===\n"
     ]
    },
    {
     "data": {
      "application/vnd.jupyter.widget-view+json": {
       "model_id": "f5ca000ed0c04cd78d013d08edc631ce",
       "version_major": 2,
       "version_minor": 0
      },
      "text/plain": [
       "train:   0%|          | 0/79 [00:00<?, ?it/s]"
      ]
     },
     "metadata": {},
     "output_type": "display_data"
    },
    {
     "name": "stdout",
     "output_type": "stream",
     "text": [
      "train: loss=0.6855\n"
     ]
    },
    {
     "data": {
      "application/vnd.jupyter.widget-view+json": {
       "model_id": "7a8fb416f75e47348b559d38cc4e4d91",
       "version_major": 2,
       "version_minor": 0
      },
      "text/plain": [
       "val:   0%|          | 0/20 [00:00<?, ?it/s]"
      ]
     },
     "metadata": {},
     "output_type": "display_data"
    },
    {
     "name": "stdout",
     "output_type": "stream",
     "text": [
      "val:   loss=0.6852  Acc=0.591  P=0.579  R=0.666  F1=0.619\n",
      "  → обновили лучшую по F1 модель\n",
      "\n",
      "=== Эпоха 5/25 ===\n"
     ]
    },
    {
     "data": {
      "application/vnd.jupyter.widget-view+json": {
       "model_id": "122c5342eb1c49329e3b95af70c18835",
       "version_major": 2,
       "version_minor": 0
      },
      "text/plain": [
       "train:   0%|          | 0/79 [00:00<?, ?it/s]"
      ]
     },
     "metadata": {},
     "output_type": "display_data"
    },
    {
     "name": "stdout",
     "output_type": "stream",
     "text": [
      "train: loss=0.6830\n"
     ]
    },
    {
     "data": {
      "application/vnd.jupyter.widget-view+json": {
       "model_id": "5d013017be8c427a8b14048419d34363",
       "version_major": 2,
       "version_minor": 0
      },
      "text/plain": [
       "val:   0%|          | 0/20 [00:00<?, ?it/s]"
      ]
     },
     "metadata": {},
     "output_type": "display_data"
    },
    {
     "name": "stdout",
     "output_type": "stream",
     "text": [
      "val:   loss=0.6829  Acc=0.613  P=0.604  R=0.658  F1=0.630\n",
      "  → обновили лучшую по F1 модель\n",
      "\n",
      "=== Эпоха 6/25 ===\n"
     ]
    },
    {
     "data": {
      "application/vnd.jupyter.widget-view+json": {
       "model_id": "02cfe89a3c86495fa747ff7ac8bcf66f",
       "version_major": 2,
       "version_minor": 0
      },
      "text/plain": [
       "train:   0%|          | 0/79 [00:00<?, ?it/s]"
      ]
     },
     "metadata": {},
     "output_type": "display_data"
    },
    {
     "name": "stdout",
     "output_type": "stream",
     "text": [
      "train: loss=0.6804\n"
     ]
    },
    {
     "data": {
      "application/vnd.jupyter.widget-view+json": {
       "model_id": "48099b3603204a1aab996612d3b15bb0",
       "version_major": 2,
       "version_minor": 0
      },
      "text/plain": [
       "val:   0%|          | 0/20 [00:00<?, ?it/s]"
      ]
     },
     "metadata": {},
     "output_type": "display_data"
    },
    {
     "name": "stdout",
     "output_type": "stream",
     "text": [
      "val:   loss=0.6805  Acc=0.622  P=0.613  R=0.666  F1=0.638\n",
      "  → обновили лучшую по F1 модель\n",
      "\n",
      "=== Эпоха 7/25 ===\n"
     ]
    },
    {
     "data": {
      "application/vnd.jupyter.widget-view+json": {
       "model_id": "b2bf84f8f73241b48e91e8b184e75672",
       "version_major": 2,
       "version_minor": 0
      },
      "text/plain": [
       "train:   0%|          | 0/79 [00:00<?, ?it/s]"
      ]
     },
     "metadata": {},
     "output_type": "display_data"
    },
    {
     "name": "stdout",
     "output_type": "stream",
     "text": [
      "train: loss=0.6777\n"
     ]
    },
    {
     "data": {
      "application/vnd.jupyter.widget-view+json": {
       "model_id": "59bb1f1e3cb8493f828ceafe62ddf1c4",
       "version_major": 2,
       "version_minor": 0
      },
      "text/plain": [
       "val:   0%|          | 0/20 [00:00<?, ?it/s]"
      ]
     },
     "metadata": {},
     "output_type": "display_data"
    },
    {
     "name": "stdout",
     "output_type": "stream",
     "text": [
      "val:   loss=0.6779  Acc=0.631  P=0.620  R=0.680  F1=0.648\n",
      "  → обновили лучшую по F1 модель\n",
      "\n",
      "=== Эпоха 8/25 ===\n"
     ]
    },
    {
     "data": {
      "application/vnd.jupyter.widget-view+json": {
       "model_id": "5a542cce170149439590d5a189f786d2",
       "version_major": 2,
       "version_minor": 0
      },
      "text/plain": [
       "train:   0%|          | 0/79 [00:00<?, ?it/s]"
      ]
     },
     "metadata": {},
     "output_type": "display_data"
    },
    {
     "name": "stdout",
     "output_type": "stream",
     "text": [
      "train: loss=0.6747\n"
     ]
    },
    {
     "data": {
      "application/vnd.jupyter.widget-view+json": {
       "model_id": "485a4599f3b6453a8d44ac7ef00b14f0",
       "version_major": 2,
       "version_minor": 0
      },
      "text/plain": [
       "val:   0%|          | 0/20 [00:00<?, ?it/s]"
      ]
     },
     "metadata": {},
     "output_type": "display_data"
    },
    {
     "name": "stdout",
     "output_type": "stream",
     "text": [
      "val:   loss=0.6752  Acc=0.641  P=0.628  R=0.692  F1=0.658\n",
      "  → обновили лучшую по F1 модель\n",
      "\n",
      "=== Эпоха 9/25 ===\n"
     ]
    },
    {
     "data": {
      "application/vnd.jupyter.widget-view+json": {
       "model_id": "d008ac8a40b942b0af269bcd48f63388",
       "version_major": 2,
       "version_minor": 0
      },
      "text/plain": [
       "train:   0%|          | 0/79 [00:00<?, ?it/s]"
      ]
     },
     "metadata": {},
     "output_type": "display_data"
    },
    {
     "name": "stdout",
     "output_type": "stream",
     "text": [
      "train: loss=0.6716\n"
     ]
    },
    {
     "data": {
      "application/vnd.jupyter.widget-view+json": {
       "model_id": "0984d0d003b94ca48db856a6625f4aca",
       "version_major": 2,
       "version_minor": 0
      },
      "text/plain": [
       "val:   0%|          | 0/20 [00:00<?, ?it/s]"
      ]
     },
     "metadata": {},
     "output_type": "display_data"
    },
    {
     "name": "stdout",
     "output_type": "stream",
     "text": [
      "val:   loss=0.6723  Acc=0.650  P=0.636  R=0.700  F1=0.667\n",
      "  → обновили лучшую по F1 модель\n",
      "\n",
      "=== Эпоха 10/25 ===\n"
     ]
    },
    {
     "data": {
      "application/vnd.jupyter.widget-view+json": {
       "model_id": "aa02c8f8b93046e990c6e766965678fd",
       "version_major": 2,
       "version_minor": 0
      },
      "text/plain": [
       "train:   0%|          | 0/79 [00:00<?, ?it/s]"
      ]
     },
     "metadata": {},
     "output_type": "display_data"
    },
    {
     "name": "stdout",
     "output_type": "stream",
     "text": [
      "train: loss=0.6682\n"
     ]
    },
    {
     "data": {
      "application/vnd.jupyter.widget-view+json": {
       "model_id": "237b914f97a84ead92771401a214697c",
       "version_major": 2,
       "version_minor": 0
      },
      "text/plain": [
       "val:   0%|          | 0/20 [00:00<?, ?it/s]"
      ]
     },
     "metadata": {},
     "output_type": "display_data"
    },
    {
     "name": "stdout",
     "output_type": "stream",
     "text": [
      "val:   loss=0.6691  Acc=0.658  P=0.644  R=0.706  F1=0.674\n",
      "  → обновили лучшую по F1 модель\n",
      "\n",
      "=== Эпоха 11/25 ===\n"
     ]
    },
    {
     "data": {
      "application/vnd.jupyter.widget-view+json": {
       "model_id": "445c5be4b8cc4eaab8d39ac473a441ca",
       "version_major": 2,
       "version_minor": 0
      },
      "text/plain": [
       "train:   0%|          | 0/79 [00:00<?, ?it/s]"
      ]
     },
     "metadata": {},
     "output_type": "display_data"
    },
    {
     "name": "stdout",
     "output_type": "stream",
     "text": [
      "train: loss=0.6646\n"
     ]
    },
    {
     "data": {
      "application/vnd.jupyter.widget-view+json": {
       "model_id": "2ec9a6a1033242e9b14f6e808cd8c3a9",
       "version_major": 2,
       "version_minor": 0
      },
      "text/plain": [
       "val:   0%|          | 0/20 [00:00<?, ?it/s]"
      ]
     },
     "metadata": {},
     "output_type": "display_data"
    },
    {
     "name": "stdout",
     "output_type": "stream",
     "text": [
      "val:   loss=0.6658  Acc=0.663  P=0.649  R=0.710  F1=0.678\n",
      "  → обновили лучшую по F1 модель\n",
      "\n",
      "=== Эпоха 12/25 ===\n"
     ]
    },
    {
     "data": {
      "application/vnd.jupyter.widget-view+json": {
       "model_id": "eaba086b340645c2a3a92ef086d5f0e9",
       "version_major": 2,
       "version_minor": 0
      },
      "text/plain": [
       "train:   0%|          | 0/79 [00:00<?, ?it/s]"
      ]
     },
     "metadata": {},
     "output_type": "display_data"
    },
    {
     "name": "stdout",
     "output_type": "stream",
     "text": [
      "train: loss=0.6607\n"
     ]
    },
    {
     "data": {
      "application/vnd.jupyter.widget-view+json": {
       "model_id": "acdba0bfe7cb4842ac2c6b03a082b4f8",
       "version_major": 2,
       "version_minor": 0
      },
      "text/plain": [
       "val:   0%|          | 0/20 [00:00<?, ?it/s]"
      ]
     },
     "metadata": {},
     "output_type": "display_data"
    },
    {
     "name": "stdout",
     "output_type": "stream",
     "text": [
      "val:   loss=0.6622  Acc=0.674  P=0.664  R=0.706  F1=0.684\n",
      "  → обновили лучшую по F1 модель\n",
      "\n",
      "=== Эпоха 13/25 ===\n"
     ]
    },
    {
     "data": {
      "application/vnd.jupyter.widget-view+json": {
       "model_id": "83db9740b707463b90d41c389f5ff78c",
       "version_major": 2,
       "version_minor": 0
      },
      "text/plain": [
       "train:   0%|          | 0/79 [00:00<?, ?it/s]"
      ]
     },
     "metadata": {},
     "output_type": "display_data"
    },
    {
     "name": "stdout",
     "output_type": "stream",
     "text": [
      "train: loss=0.6565\n"
     ]
    },
    {
     "data": {
      "application/vnd.jupyter.widget-view+json": {
       "model_id": "7d3bc13b200f4069bdbd75e28b429d42",
       "version_major": 2,
       "version_minor": 0
      },
      "text/plain": [
       "val:   0%|          | 0/20 [00:00<?, ?it/s]"
      ]
     },
     "metadata": {},
     "output_type": "display_data"
    },
    {
     "name": "stdout",
     "output_type": "stream",
     "text": [
      "val:   loss=0.6583  Acc=0.683  P=0.672  R=0.714  F1=0.693\n",
      "  → обновили лучшую по F1 модель\n",
      "\n",
      "=== Эпоха 14/25 ===\n"
     ]
    },
    {
     "data": {
      "application/vnd.jupyter.widget-view+json": {
       "model_id": "9ba5cd5cd8cd4581882ff02524e45f75",
       "version_major": 2,
       "version_minor": 0
      },
      "text/plain": [
       "train:   0%|          | 0/79 [00:00<?, ?it/s]"
      ]
     },
     "metadata": {},
     "output_type": "display_data"
    },
    {
     "name": "stdout",
     "output_type": "stream",
     "text": [
      "train: loss=0.6521\n"
     ]
    },
    {
     "data": {
      "application/vnd.jupyter.widget-view+json": {
       "model_id": "0735a1cd585544c6840128450fa83269",
       "version_major": 2,
       "version_minor": 0
      },
      "text/plain": [
       "val:   0%|          | 0/20 [00:00<?, ?it/s]"
      ]
     },
     "metadata": {},
     "output_type": "display_data"
    },
    {
     "name": "stdout",
     "output_type": "stream",
     "text": [
      "val:   loss=0.6543  Acc=0.690  P=0.683  R=0.708  F1=0.695\n",
      "  → обновили лучшую по F1 модель\n",
      "\n",
      "=== Эпоха 15/25 ===\n"
     ]
    },
    {
     "data": {
      "application/vnd.jupyter.widget-view+json": {
       "model_id": "6937fe9f322b48dd9da786d424b6f4e5",
       "version_major": 2,
       "version_minor": 0
      },
      "text/plain": [
       "train:   0%|          | 0/79 [00:00<?, ?it/s]"
      ]
     },
     "metadata": {},
     "output_type": "display_data"
    },
    {
     "name": "stdout",
     "output_type": "stream",
     "text": [
      "train: loss=0.6474\n"
     ]
    },
    {
     "data": {
      "application/vnd.jupyter.widget-view+json": {
       "model_id": "dc1d67100ece4615b18ebcd4c02ff635",
       "version_major": 2,
       "version_minor": 0
      },
      "text/plain": [
       "val:   0%|          | 0/20 [00:00<?, ?it/s]"
      ]
     },
     "metadata": {},
     "output_type": "display_data"
    },
    {
     "name": "stdout",
     "output_type": "stream",
     "text": [
      "val:   loss=0.6500  Acc=0.697  P=0.689  R=0.718  F1=0.703\n",
      "  → обновили лучшую по F1 модель\n",
      "\n",
      "=== Эпоха 16/25 ===\n"
     ]
    },
    {
     "data": {
      "application/vnd.jupyter.widget-view+json": {
       "model_id": "991bb83567ee4409bfd5268498fca7be",
       "version_major": 2,
       "version_minor": 0
      },
      "text/plain": [
       "train:   0%|          | 0/79 [00:00<?, ?it/s]"
      ]
     },
     "metadata": {},
     "output_type": "display_data"
    },
    {
     "name": "stdout",
     "output_type": "stream",
     "text": [
      "train: loss=0.6425\n"
     ]
    },
    {
     "data": {
      "application/vnd.jupyter.widget-view+json": {
       "model_id": "8c859a553bc24756b9b59ab01b3ecbc3",
       "version_major": 2,
       "version_minor": 0
      },
      "text/plain": [
       "val:   0%|          | 0/20 [00:00<?, ?it/s]"
      ]
     },
     "metadata": {},
     "output_type": "display_data"
    },
    {
     "name": "stdout",
     "output_type": "stream",
     "text": [
      "val:   loss=0.6455  Acc=0.703  P=0.691  R=0.734  F1=0.712\n",
      "  → обновили лучшую по F1 модель\n",
      "\n",
      "=== Эпоха 17/25 ===\n"
     ]
    },
    {
     "data": {
      "application/vnd.jupyter.widget-view+json": {
       "model_id": "5c12d8ab586346df96f8cbd0483ecda2",
       "version_major": 2,
       "version_minor": 0
      },
      "text/plain": [
       "train:   0%|          | 0/79 [00:00<?, ?it/s]"
      ]
     },
     "metadata": {},
     "output_type": "display_data"
    },
    {
     "name": "stdout",
     "output_type": "stream",
     "text": [
      "train: loss=0.6373\n"
     ]
    },
    {
     "data": {
      "application/vnd.jupyter.widget-view+json": {
       "model_id": "e838c159e0814eef8972353fd285bd5b",
       "version_major": 2,
       "version_minor": 0
      },
      "text/plain": [
       "val:   0%|          | 0/20 [00:00<?, ?it/s]"
      ]
     },
     "metadata": {},
     "output_type": "display_data"
    },
    {
     "name": "stdout",
     "output_type": "stream",
     "text": [
      "val:   loss=0.6408  Acc=0.709  P=0.695  R=0.745  F1=0.719\n",
      "  → обновили лучшую по F1 модель\n",
      "\n",
      "=== Эпоха 18/25 ===\n"
     ]
    },
    {
     "data": {
      "application/vnd.jupyter.widget-view+json": {
       "model_id": "53d39049c126411eaea9d6a8e3f6db4d",
       "version_major": 2,
       "version_minor": 0
      },
      "text/plain": [
       "train:   0%|          | 0/79 [00:00<?, ?it/s]"
      ]
     },
     "metadata": {},
     "output_type": "display_data"
    },
    {
     "name": "stdout",
     "output_type": "stream",
     "text": [
      "train: loss=0.6318\n"
     ]
    },
    {
     "data": {
      "application/vnd.jupyter.widget-view+json": {
       "model_id": "ae590de6f44a461f8730716fcb90aeac",
       "version_major": 2,
       "version_minor": 0
      },
      "text/plain": [
       "val:   0%|          | 0/20 [00:00<?, ?it/s]"
      ]
     },
     "metadata": {},
     "output_type": "display_data"
    },
    {
     "name": "stdout",
     "output_type": "stream",
     "text": [
      "val:   loss=0.6358  Acc=0.714  P=0.702  R=0.743  F1=0.722\n",
      "  → обновили лучшую по F1 модель\n",
      "\n",
      "=== Эпоха 19/25 ===\n"
     ]
    },
    {
     "data": {
      "application/vnd.jupyter.widget-view+json": {
       "model_id": "43f9193a34d548e28e1fc7b70691598d",
       "version_major": 2,
       "version_minor": 0
      },
      "text/plain": [
       "train:   0%|          | 0/79 [00:00<?, ?it/s]"
      ]
     },
     "metadata": {},
     "output_type": "display_data"
    },
    {
     "name": "stdout",
     "output_type": "stream",
     "text": [
      "train: loss=0.6262\n"
     ]
    },
    {
     "data": {
      "application/vnd.jupyter.widget-view+json": {
       "model_id": "c4ac31fcb5d04da9b4fed128e67bac94",
       "version_major": 2,
       "version_minor": 0
      },
      "text/plain": [
       "val:   0%|          | 0/20 [00:00<?, ?it/s]"
      ]
     },
     "metadata": {},
     "output_type": "display_data"
    },
    {
     "name": "stdout",
     "output_type": "stream",
     "text": [
      "val:   loss=0.6306  Acc=0.717  P=0.707  R=0.742  F1=0.724\n",
      "  → обновили лучшую по F1 модель\n",
      "\n",
      "=== Эпоха 20/25 ===\n"
     ]
    },
    {
     "data": {
      "application/vnd.jupyter.widget-view+json": {
       "model_id": "c39afa48027c45558ea6a2548f1f5da1",
       "version_major": 2,
       "version_minor": 0
      },
      "text/plain": [
       "train:   0%|          | 0/79 [00:00<?, ?it/s]"
      ]
     },
     "metadata": {},
     "output_type": "display_data"
    },
    {
     "name": "stdout",
     "output_type": "stream",
     "text": [
      "train: loss=0.6203\n"
     ]
    },
    {
     "data": {
      "application/vnd.jupyter.widget-view+json": {
       "model_id": "2a58dc913f9c480fa4f888917f4c4d63",
       "version_major": 2,
       "version_minor": 0
      },
      "text/plain": [
       "val:   0%|          | 0/20 [00:00<?, ?it/s]"
      ]
     },
     "metadata": {},
     "output_type": "display_data"
    },
    {
     "name": "stdout",
     "output_type": "stream",
     "text": [
      "val:   loss=0.6253  Acc=0.725  P=0.718  R=0.743  F1=0.730\n",
      "  → обновили лучшую по F1 модель\n",
      "\n",
      "=== Эпоха 21/25 ===\n"
     ]
    },
    {
     "data": {
      "application/vnd.jupyter.widget-view+json": {
       "model_id": "9fdbbd2e3abe4c2daf68f75d437d46f3",
       "version_major": 2,
       "version_minor": 0
      },
      "text/plain": [
       "train:   0%|          | 0/79 [00:00<?, ?it/s]"
      ]
     },
     "metadata": {},
     "output_type": "display_data"
    },
    {
     "name": "stdout",
     "output_type": "stream",
     "text": [
      "train: loss=0.6143\n"
     ]
    },
    {
     "data": {
      "application/vnd.jupyter.widget-view+json": {
       "model_id": "677864b6078440c08e0bc103531d412e",
       "version_major": 2,
       "version_minor": 0
      },
      "text/plain": [
       "val:   0%|          | 0/20 [00:00<?, ?it/s]"
      ]
     },
     "metadata": {},
     "output_type": "display_data"
    },
    {
     "name": "stdout",
     "output_type": "stream",
     "text": [
      "val:   loss=0.6199  Acc=0.731  P=0.722  R=0.750  F1=0.736\n",
      "  → обновили лучшую по F1 модель\n",
      "\n",
      "=== Эпоха 22/25 ===\n"
     ]
    },
    {
     "data": {
      "application/vnd.jupyter.widget-view+json": {
       "model_id": "96fd195fe6504dbe88e3d5f148695b62",
       "version_major": 2,
       "version_minor": 0
      },
      "text/plain": [
       "train:   0%|          | 0/79 [00:00<?, ?it/s]"
      ]
     },
     "metadata": {},
     "output_type": "display_data"
    },
    {
     "name": "stdout",
     "output_type": "stream",
     "text": [
      "train: loss=0.6080\n"
     ]
    },
    {
     "data": {
      "application/vnd.jupyter.widget-view+json": {
       "model_id": "5b8456e556774fc3a4c729adf95b62b2",
       "version_major": 2,
       "version_minor": 0
      },
      "text/plain": [
       "val:   0%|          | 0/20 [00:00<?, ?it/s]"
      ]
     },
     "metadata": {},
     "output_type": "display_data"
    },
    {
     "name": "stdout",
     "output_type": "stream",
     "text": [
      "val:   loss=0.6142  Acc=0.736  P=0.727  R=0.756  F1=0.741\n",
      "  → обновили лучшую по F1 модель\n",
      "\n",
      "=== Эпоха 23/25 ===\n"
     ]
    },
    {
     "data": {
      "application/vnd.jupyter.widget-view+json": {
       "model_id": "f7ef63547aa24af3b4d54caac45c3b66",
       "version_major": 2,
       "version_minor": 0
      },
      "text/plain": [
       "train:   0%|          | 0/79 [00:00<?, ?it/s]"
      ]
     },
     "metadata": {},
     "output_type": "display_data"
    },
    {
     "name": "stdout",
     "output_type": "stream",
     "text": [
      "train: loss=0.6017\n"
     ]
    },
    {
     "data": {
      "application/vnd.jupyter.widget-view+json": {
       "model_id": "ff1a8a4fbb704237b6a97641ed554005",
       "version_major": 2,
       "version_minor": 0
      },
      "text/plain": [
       "val:   0%|          | 0/20 [00:00<?, ?it/s]"
      ]
     },
     "metadata": {},
     "output_type": "display_data"
    },
    {
     "name": "stdout",
     "output_type": "stream",
     "text": [
      "val:   loss=0.6085  Acc=0.740  P=0.733  R=0.755  F1=0.744\n",
      "  → обновили лучшую по F1 модель\n",
      "\n",
      "=== Эпоха 24/25 ===\n"
     ]
    },
    {
     "data": {
      "application/vnd.jupyter.widget-view+json": {
       "model_id": "65d2e6db228440c2835dd4ab847c19b8",
       "version_major": 2,
       "version_minor": 0
      },
      "text/plain": [
       "train:   0%|          | 0/79 [00:00<?, ?it/s]"
      ]
     },
     "metadata": {},
     "output_type": "display_data"
    },
    {
     "name": "stdout",
     "output_type": "stream",
     "text": [
      "train: loss=0.5951\n"
     ]
    },
    {
     "data": {
      "application/vnd.jupyter.widget-view+json": {
       "model_id": "283328d174204ec5a8f4d9901e21a360",
       "version_major": 2,
       "version_minor": 0
      },
      "text/plain": [
       "val:   0%|          | 0/20 [00:00<?, ?it/s]"
      ]
     },
     "metadata": {},
     "output_type": "display_data"
    },
    {
     "name": "stdout",
     "output_type": "stream",
     "text": [
      "val:   loss=0.6026  Acc=0.744  P=0.736  R=0.762  F1=0.749\n",
      "  → обновили лучшую по F1 модель\n",
      "\n",
      "=== Эпоха 25/25 ===\n"
     ]
    },
    {
     "data": {
      "application/vnd.jupyter.widget-view+json": {
       "model_id": "3f7acb0e707f47e28f38562cfef2bddc",
       "version_major": 2,
       "version_minor": 0
      },
      "text/plain": [
       "train:   0%|          | 0/79 [00:00<?, ?it/s]"
      ]
     },
     "metadata": {},
     "output_type": "display_data"
    },
    {
     "name": "stdout",
     "output_type": "stream",
     "text": [
      "train: loss=0.5885\n"
     ]
    },
    {
     "data": {
      "application/vnd.jupyter.widget-view+json": {
       "model_id": "70331959ebe94e00b53f4e1bed7e72f8",
       "version_major": 2,
       "version_minor": 0
      },
      "text/plain": [
       "val:   0%|          | 0/20 [00:00<?, ?it/s]"
      ]
     },
     "metadata": {},
     "output_type": "display_data"
    },
    {
     "name": "stdout",
     "output_type": "stream",
     "text": [
      "val:   loss=0.5967  Acc=0.749  P=0.741  R=0.765  F1=0.753\n",
      "  → обновили лучшую по F1 модель\n"
     ]
    },
    {
     "data": {
      "application/vnd.jupyter.widget-view+json": {
       "model_id": "757036e8444e4a6a93dd61c47d5bee50",
       "version_major": 2,
       "version_minor": 0
      },
      "text/plain": [
       "test:   0%|          | 0/98 [00:00<?, ?it/s]"
      ]
     },
     "metadata": {},
     "output_type": "display_data"
    },
    {
     "name": "stdout",
     "output_type": "stream",
     "text": [
      "\n",
      "TEST:  loss=0.5975  Acc=0.743  P=0.741  R=0.746  F1=0.743\n"
     ]
    }
   ],
   "source": [
    "# Старт эксперимента \"с нуля\":\n",
    "# 1) фиксируем сиды,\n",
    "# 2) задаём гиперпараметры,\n",
    "# 3) создаём модель/лосс/оптимизатор,\n",
    "# 4) тренируем несколько эпох с валидацией,\n",
    "\n",
    "RNG_SEED: int = 42\n",
    "set_global_seed(RNG_SEED)\n",
    "\n",
    "# Гиперпараметры: чтобы легче читать и менять из одной точки\n",
    "VOCABULARY_SIZE: int   = len(STRING_TO_INDEX)  # число токенов в словаре (вкл. <unk>=0)\n",
    "EMBEDDING_DIM: int     = 128                   # размерность вектора слова\n",
    "LEARNING_RATE: float   = 1e-4                 # шаг Adam\n",
    "NUM_EPOCHS: int        = 25                    # сколько раз проходим тренировочные данные\n",
    "DECISION_THRESHOLD: float = 0.5                # порог для перевода p(y=1) в класс 0/1 при подсчёте метрик\n",
    "\n",
    "# Модель и инструменты оптимизации\n",
    "model = SentimentBagModel(VOCABULARY_SIZE, EMBEDDING_DIM).to(device)\n",
    "\n",
    "loss_function = nn.BCEWithLogitsLoss()                         # бинарная кросс-энтропия по логитам (внутри сигмоида)\n",
    "optimizer     = optim.Adam(model.parameters(), lr=LEARNING_RATE)\n",
    "\n",
    "# Трекер лучшей по валидационной F1 эпохи\n",
    "best_validation_f1: float = -1.0\n",
    "best_model_state_dict: dict | None = None\n",
    "\n",
    "for epoch_index in range(1, NUM_EPOCHS + 1):\n",
    "    print(f\"\\n=== Эпоха {epoch_index}/{NUM_EPOCHS} ===\")\n",
    "\n",
    "    # Обучение на train_loader (одна эпоха); возвращаем средний лосс по примерам\n",
    "    average_train_loss: float = train_one_epoch(\n",
    "        model=model,\n",
    "        loader=train_loader,\n",
    "        optimizer=optimizer,\n",
    "        criterion=loss_function,\n",
    "        device=device,\n",
    "    )\n",
    "    print(f\"train: loss={average_train_loss:.4f}\")\n",
    "\n",
    "    # Оценка на валидации: собираем вероятности p(y=1), бинаризуем по порогу и считаем метрики\n",
    "    validation_metrics, _, _ = evaluate_on_loader(\n",
    "        model=model,\n",
    "        loader=val_loader,\n",
    "        device=device,\n",
    "        threshold=DECISION_THRESHOLD,\n",
    "        criterion=loss_function,\n",
    "        name=\"VAL\",\n",
    "    )\n",
    "    print(\"val:   \"\n",
    "          f\"loss={validation_metrics['loss']:.4f}  \"\n",
    "          f\"Acc={validation_metrics['accuracy']:.3f}  \"\n",
    "          f\"P={validation_metrics['precision']:.3f}  \"\n",
    "          f\"R={validation_metrics['recall']:.3f}  \"\n",
    "          f\"F1={validation_metrics['f1']:.3f}\")\n",
    "\n",
    "    # Обновляем «лучшие веса» по валидационной F1 (часто информативнее Accuracy при дисбалансе)\n",
    "    if validation_metrics[\"f1\"] > best_validation_f1:\n",
    "        best_validation_f1 = validation_metrics[\"f1\"]\n",
    "        # Копируем тензоры на CPU: дальше можем восстановить независимо от текущего device\n",
    "        best_model_state_dict = {k: v.detach().cpu().clone() for k, v in model.state_dict().items()}\n",
    "        print(\"  → обновили лучшую по F1 модель\")\n",
    "\n",
    "# Перед финальным тестом — восстановим лучшую эпоху\n",
    "if best_model_state_dict is not None:\n",
    "    model.load_state_dict(best_model_state_dict)\n",
    "    model.to(device)\n",
    "\n",
    "# Финальная проверка на тесте: метрики при выбранном пороге DECISION_THRESHOLD\n",
    "test_metrics, test_probabilities, test_targets = evaluate_on_loader(\n",
    "    model=model,\n",
    "    loader=test_loader,\n",
    "    device=device,\n",
    "    threshold=DECISION_THRESHOLD,\n",
    "    criterion=loss_function,\n",
    "    name=\"TEST\",\n",
    ")\n",
    "print(\"\\nTEST:  \"\n",
    "      f\"loss={test_metrics['loss']:.4f}  \"\n",
    "      f\"Acc={test_metrics['accuracy']:.3f}  \"\n",
    "      f\"P={test_metrics['precision']:.3f}  \"\n",
    "      f\"R={test_metrics['recall']:.3f}  \"\n",
    "      f\"F1={test_metrics['f1']:.3f}\")\n",
    "\n",
    "# На выходе:\n",
    "# - train/val/test лоссы и базовые метрики при выбранном пороге,\n",
    "# - best_validation_f1 и best_model_state_dict (если блок выбора лучшей эпохи не отключён),\n",
    "# - test_probabilities/test_targets — пригодятся для ROC/PR и для подбора порога под разные сценарии.\n"
   ]
  },
  {
   "cell_type": "markdown",
   "id": "155e3fa7-246f-4e19-becc-a68e1c821a2a",
   "metadata": {},
   "source": [
    "# Метрики подробнее"
   ]
  },
  {
   "cell_type": "code",
   "execution_count": 32,
   "id": "7a9a3a36-63c2-4f52-b329-01035de2ade4",
   "metadata": {},
   "outputs": [],
   "source": [
    "# Блок 0. Подготовка тестовых массивов (если их ещё нет)\n",
    "from typing import Tuple\n",
    "import numpy as np\n",
    "\n",
    "def ensure_test_arrays() -> Tuple[np.ndarray, np.ndarray, np.ndarray]:\n",
    "    global y_true_test, y_score_test, y_pred_test, test_probabilities, test_targets\n",
    "    if \"test_probabilities\" not in globals() or \"test_targets\" not in globals():\n",
    "        test_report, test_probabilities, test_targets = evaluate_on_loader(\n",
    "            model=model, loader=test_loader, device=device,\n",
    "            threshold=DECISION_THRESHOLD, criterion=loss_function, name=\"TEST-SETUP\"\n",
    "        )\n",
    "    y_true_test  = test_targets.astype(int)\n",
    "    y_score_test = test_probabilities\n",
    "    y_pred_test  = (y_score_test >= DECISION_THRESHOLD).astype(int)\n",
    "    return y_true_test, y_score_test, y_pred_test\n",
    "\n",
    "_ = ensure_test_arrays()\n"
   ]
  },
  {
   "cell_type": "code",
   "execution_count": 33,
   "id": "a2262064-6e09-4037-a317-7b317d8647cb",
   "metadata": {},
   "outputs": [
    {
     "data": {
      "application/vnd.jupyter.widget-view+json": {
       "model_id": "b9f7799a07194cfc8956be6f191447f0",
       "version_major": 2,
       "version_minor": 0
      },
      "text/plain": [
       "val-metrics:   0%|          | 0/20 [00:00<?, ?it/s]"
      ]
     },
     "metadata": {},
     "output_type": "display_data"
    },
    {
     "name": "stdout",
     "output_type": "stream",
     "text": [
      "[VAL] метрики при текущем пороге: {'loss': 0.5966623956680298, 'accuracy': 0.7488, 'precision': 0.7410852713178294, 'recall': 0.7648, 'f1': 0.752755905511811}\n"
     ]
    }
   ],
   "source": [
    "# === Блок 1. Пересчёт вероятностей p(y=1) и целей y на валидации ===\n",
    "# Получаем непрерывные оценки (probabilities p(y=1)) и истинные метки на VAL.\n",
    "# Эти значения понадобятся для подбора порога и всех порогозависимых метрик.\n",
    "\n",
    "validation_report, validation_probabilities, validation_targets = evaluate_on_loader(\n",
    "    model=model,\n",
    "    loader=val_loader,\n",
    "    device=device,\n",
    "    threshold=DECISION_THRESHOLD,  \n",
    "    criterion=loss_function,\n",
    "    name=\"VAL-METRICS\",\n",
    ")\n",
    "print(\"[VAL] метрики при текущем пороге:\", validation_report)\n"
   ]
  },
  {
   "cell_type": "markdown",
   "id": "be725a91-1f55-431f-8c9c-07bebf3b2f22",
   "metadata": {},
   "source": [
    "### Пояснение — Блок 1 (валидационные вероятности и метки)\n",
    "\n",
    "- «Непрерывные оценки» — это вероятности класса 1 (числа от 0 до 1) для каждого объекта.\n",
    "- Эти значения используются для:\n",
    "  1) подбора порога на валидации;\n",
    "  2) расчёта ROC/PR-кривых и соответствующих AUC-метрик (они не зависят от конкретного порога).\n",
    "- Параметр `threshold` внутри функции оценки влияет только на расчёт бинарных метрик (там вероятности переводятся в 0/1), но не изменяет сами вероятности, которые функция возвращает.\n"
   ]
  },
  {
   "cell_type": "code",
   "execution_count": 34,
   "id": "c8b4b86f-0a7f-4083-ab35-82c1e36a870d",
   "metadata": {},
   "outputs": [
    {
     "name": "stdout",
     "output_type": "stream",
     "text": [
      "[TEST] метрики при пороге 0.50\n",
      "  Accuracy : 0.74268\n",
      "  Precision: 0.7411558947452103\n",
      "  Recall   : 0.74584\n",
      "  F1       : 0.7434905697994338\n",
      "\n",
      "Классификационный отчёт:\n",
      "               precision    recall  f1-score   support\n",
      "\n",
      "           0      0.744     0.740     0.742     12500\n",
      "           1      0.741     0.746     0.743     12500\n",
      "\n",
      "    accuracy                          0.743     25000\n",
      "   macro avg      0.743     0.743     0.743     25000\n",
      "weighted avg      0.743     0.743     0.743     25000\n",
      "\n"
     ]
    }
   ],
   "source": [
    "# Блок 2. Базовые метрики на TEST при текущем пороге\n",
    "from sklearn.metrics import accuracy_score, precision_score, recall_score, f1_score, classification_report\n",
    "\n",
    "print(f\"[TEST] метрики при пороге {DECISION_THRESHOLD:.2f}\")\n",
    "print(\"  Accuracy :\", accuracy_score(y_true_test, y_pred_test))\n",
    "print(\"  Precision:\", precision_score(y_true_test, y_pred_test, zero_division=0))\n",
    "print(\"  Recall   :\", recall_score(y_true_test, y_pred_test, zero_division=0))\n",
    "print(\"  F1       :\", f1_score(y_true_test, y_pred_test, zero_division=0))\n",
    "print(\"\\nКлассификационный отчёт:\\n\", classification_report(y_true_test, y_pred_test, digits=3))\n"
   ]
  },
  {
   "cell_type": "markdown",
   "id": "e9e568f1-055b-41ac-83e2-5fe6dbef2c63",
   "metadata": {},
   "source": [
    "### Блок 2 —  метрики при текущем пороге\n",
    "\n",
    "Метрики рассчитаны после бинаризации вероятностей порогом `DECISION_THRESHOLD`.  \n",
    "Accuracy — доля верных предсказаний; Precision — доля верных среди отмеченных как «позитив»; Recall — доля найденных «позитивов» среди всех истинных; F1 — гармоническое среднее Precision и Recall.  \n",
    "При сбалансированных классах и симметричных ошибках показатели по классам близки друг к другу.\n"
   ]
  },
  {
   "cell_type": "code",
   "execution_count": 35,
   "id": "a81aa02b-07d6-4590-bb09-61d969aab3a6",
   "metadata": {},
   "outputs": [
    {
     "data": {
      "image/png": "[encoded data removed]",
      "text/plain": [
       "<Figure size 500x400 with 2 Axes>"
      ]
     },
     "metadata": {},
     "output_type": "display_data"
    },
    {
     "data": {
      "image/png": "[encoded data removed]",
      "text/plain": [
       "<Figure size 500x400 with 2 Axes>"
      ]
     },
     "metadata": {},
     "output_type": "display_data"
    }
   ],
   "source": [
    "# Блок 3. Визуализация матрицы ошибок (heatmap) в тёплой палитре Oranges\n",
    "import numpy as np\n",
    "import matplotlib.pyplot as plt\n",
    "from sklearn.metrics import confusion_matrix\n",
    "\n",
    "def plot_confusion_matrix(\n",
    "    y_true: np.ndarray,\n",
    "    y_pred: np.ndarray,\n",
    "    labels=None,\n",
    "    normalize: str | None = \"col\",   # None | \"row\" | \"col\" | \"all\"\n",
    "    values_fmt: str | None = None,\n",
    "    title: str = \"Confusion matrix\",\n",
    "    cmap: str = \"Oranges\",\n",
    "    vmin: float | None = None,\n",
    "    vmax: float | None = None,\n",
    "    show_colorbar: bool = True\n",
    "):\n",
    "    cm = confusion_matrix(y_true, y_pred).astype(float)\n",
    "\n",
    "    if normalize is None:\n",
    "        cm_to_show = cm;                values_fmt = values_fmt or \".0f\"\n",
    "    elif normalize == \"row\":\n",
    "        cm_to_show = cm / cm.sum(axis=1, keepdims=True).clip(min=1.0); values_fmt = values_fmt or \".2f\"; vmin = 0 if vmin is None else vmin; vmax = 1 if vmax is None else vmax\n",
    "    elif normalize == \"col\":\n",
    "        cm_to_show = cm / cm.sum(axis=0, keepdims=True).clip(min=1.0); values_fmt = values_fmt or \".2f\"; vmin = 0 if vmin is None else vmin; vmax = 1 if vmax is None else vmax\n",
    "    elif normalize == \"all\":\n",
    "        cm_to_show = cm / cm.sum().clip(min=1.0);                      values_fmt = values_fmt or \".2f\"; vmin = 0 if vmin is None else vmin; vmax = 1 if vmax is None else vmax\n",
    "    else:\n",
    "        raise ValueError(\"normalize must be None, 'row', 'col', or 'all'\")\n",
    "\n",
    "    labels = labels or [str(x) for x in np.unique(np.concatenate([y_true, y_pred]))]\n",
    "\n",
    "    fig, ax = plt.subplots(figsize=(5, 4))\n",
    "    im = ax.imshow(cm_to_show, interpolation=\"nearest\", cmap=cmap, vmin=vmin, vmax=vmax)\n",
    "    ax.set_title(title); ax.set_xlabel(\"Predicted label\"); ax.set_ylabel(\"True label\")\n",
    "    ax.set_xticks(np.arange(len(labels))); ax.set_yticks(np.arange(len(labels)))\n",
    "    ax.set_xticklabels(labels); ax.set_yticklabels(labels)\n",
    "    if show_colorbar: fig.colorbar(im, ax=ax, fraction=0.046, pad=0.04)\n",
    "\n",
    "    threshold_for_text = (cm_to_show.max() if vmax is None else vmax) / 2.0\n",
    "    for i in range(cm_to_show.shape[0]):\n",
    "        for j in range(cm_to_show.shape[1]):\n",
    "            ax.text(j, i, format(cm_to_show[i, j], values_fmt),\n",
    "                    ha=\"center\", va=\"center\",\n",
    "                    color=\"white\" if cm_to_show[i, j] > threshold_for_text else \"black\")\n",
    "    ax.set_xlim(-0.5, cm_to_show.shape[1] - 0.5); ax.set_ylim(cm_to_show.shape[0] - 0.5, -0.5)\n",
    "    ax.grid(False); plt.tight_layout(); plt.show()\n",
    "\n",
    "# Нормировка по столбцам (Precision-ориентированная проекция) в палитре Oranges\n",
    "plot_confusion_matrix(\n",
    "    y_true=y_true_test, y_pred=y_pred_test,\n",
    "    labels=[\"neg (0)\", \"pos (1)\"],\n",
    "    normalize=\"col\", cmap=\"Oranges\",\n",
    "    title=\"Column-normalized (Oranges)\"\n",
    ")\n",
    "\n",
    "# Дополнительно (по желанию): та же палитра, но нормировка по строкам\n",
    "plot_confusion_matrix(\n",
    "    y_true=y_true_test, y_pred=y_pred_test,\n",
    "    labels=[\"neg (0)\", \"pos (1)\"],\n",
    "    normalize=\"row\", cmap=\"Oranges\",\n",
    "    title=\"Row-normalized (Oranges)\"\n",
    ")\n"
   ]
  },
  {
   "cell_type": "markdown",
   "id": "043781e1-de77-4e29-a551-768f7d46f951",
   "metadata": {},
   "source": [
    "### Нормировки матрицы ошибок: в чём разница и как читать\n",
    "\n",
    "**Row-normalized (нормировка по строкам)**  \n",
    "- Каждая строка (фиксированный истинный класс) масштабируется так, чтобы сумма была 1.  \n",
    "- Что показывают значения:\n",
    "  - Диагональ — полнота (recall) по каждому классу: доля правильно распознанных объектов этого истинного класса.\n",
    "  - Внедиагональные ячейки — доли ошибок внутри данного истинного класса: какая часть «ушла» в другой предсказанный класс.\n",
    "- Удобно, когда интересует «как модель распознаёт каждый истинный класс» и где возникают пропуски.\n",
    "\n",
    "**Column-normalized (нормировка по столбцам)**  \n",
    "- Каждый столбец (фиксированный предсказанный класс) масштабируется так, чтобы сумма была 1.  \n",
    "- Что показывают значения:\n",
    "  - Диагональ — точность (precision) по каждому классу: доля действительно принадлежащих к этому классу среди всех так предсказанных.\n",
    "  - Внедиагональные ячейки — «засорение» предсказанных классов чужими объектами (ложные срабатывания).\n",
    "- Удобно, когда интересует «насколько чисты предсказанные классы» и где модель даёт лишние срабатывания.\n",
    "\n",
    "**Почему на скриншоте значения почти одинаковые (например, 0.74/0.26)?**  \n",
    "- Тестовый набор сбалансирован (примерно поровну объектов классов 0 и 1).  \n",
    "- Ошибки модели симметричны: доли ложных срабатываний и пропусков похожи в обе стороны.  \n",
    "- В такой ситуации доли по строкам и по столбцам оказываются близкими, поэтому обе нормировки выглядят почти одинаково.\n",
    "\n",
    "**Когда различия будут заметны:**  \n",
    "- При дисбалансе классов (например, 90/10): нормировки «row» и «col» дадут различную картину.  \n",
    "- При смещении порога или асимметричных ошибках (модель чаще ошибается в одну сторону): «row» подсветит провалы по полноте, «col» — падение точности."
   ]
  },
  {
   "cell_type": "code",
   "execution_count": 36,
   "id": "9340ec16-3e37-4b2d-96a8-f7d52626cc00",
   "metadata": {},
   "outputs": [
    {
     "name": "stdout",
     "output_type": "stream",
     "text": [
      "[VAL] оптимальный порог по F1: 0.484 (F1=0.762)\n"
     ]
    }
   ],
   "source": [
    "# Блок 4. Подбор порога на валидации (критерий: максимум F1)\n",
    "import numpy as np\n",
    "from sklearn.metrics import f1_score\n",
    "\n",
    "threshold_grid = np.linspace(0.0, 1.0, 1001)\n",
    "f1_on_val = [f1_score(validation_targets, (validation_probabilities >= thr).astype(int), zero_division=0)\n",
    "             for thr in threshold_grid]\n",
    "best_val_idx = int(np.argmax(f1_on_val))\n",
    "BEST_THRESHOLD_BY_VAL_F1 = float(threshold_grid[best_val_idx])\n",
    "print(f\"[VAL] оптимальный порог по F1: {BEST_THRESHOLD_BY_VAL_F1:.3f} (F1={f1_on_val[best_val_idx]:.3f})\")\n"
   ]
  },
  {
   "cell_type": "markdown",
   "id": "893a57a2-69a5-49f2-b039-fe2882385d38",
   "metadata": {},
   "source": [
    "### Блок 4 — подбор порога\n",
    "\n",
    "Порог выбирается на валидации по целевой функции (здесь — максимум F1). В условиях сбалансированных классов F1 адекватно отражает компромисс «точность ↔ полнота». Выбранный порог далее переносится на тест.\n"
   ]
  },
  {
   "cell_type": "code",
   "execution_count": 37,
   "id": "daf9f14b-2095-4ef1-813a-b437707c2cd0",
   "metadata": {},
   "outputs": [
    {
     "name": "stdout",
     "output_type": "stream",
     "text": [
      "    TEST @ default | thr=0.500 | Acc=0.743  P=0.741  R=0.746  F1=0.743\n",
      "TEST @ best F1(val) | thr=0.484 | Acc=0.738  P=0.713  R=0.799  F1=0.753\n"
     ]
    }
   ],
   "source": [
    "# Блок 5. Сравнение на TEST: стандартный порог vs порог из валидации\n",
    "from sklearn.metrics import accuracy_score, precision_score, recall_score, f1_score\n",
    "\n",
    "def summarize_at_threshold(y_true: np.ndarray, y_score: np.ndarray, thr: float, title: str):\n",
    "    y_pred = (y_score >= thr).astype(int)\n",
    "    acc = accuracy_score(y_true, y_pred)\n",
    "    p   = precision_score(y_true, y_pred, zero_division=0)\n",
    "    r   = recall_score(y_true, y_pred, zero_division=0)\n",
    "    f1  = f1_score(y_true, y_pred, zero_division=0)\n",
    "    print(f\"{title:>18} | thr={thr:.3f} | Acc={acc:.3f}  P={p:.3f}  R={r:.3f}  F1={f1:.3f}\")\n",
    "\n",
    "summarize_at_threshold(y_true_test, y_score_test, DECISION_THRESHOLD,       \"TEST @ default\")\n",
    "summarize_at_threshold(y_true_test, y_score_test, BEST_THRESHOLD_BY_VAL_F1, \"TEST @ best F1(val)\")\n"
   ]
  },
  {
   "cell_type": "markdown",
   "id": "26de4620-e9ad-4e52-bcac-25c4623a12a7",
   "metadata": {},
   "source": [
    "### Блок 5 — перенос порога на тест\n",
    "\n",
    "Показывает влияние выбора порога на итоговые метрики. При сбалансированных классах оптимум по F1 обычно даёт разумный баланс точности и полноты.\n"
   ]
  },
  {
   "cell_type": "code",
   "execution_count": 38,
   "id": "90125e95-a758-4641-bc97-411f20f17091",
   "metadata": {},
   "outputs": [
    {
     "name": "stdout",
     "output_type": "stream",
     "text": [
      "[TEST] при пороге из VAL (thr=0.484)\n",
      "  Accuracy : 0.73844\n",
      "  Precision: 0.7127257155092427\n",
      "  Recall   : 0.79888\n",
      "  F1       : 0.7533476670061484\n"
     ]
    }
   ],
   "source": [
    "# Построение матрицы ошибок после подбора порога (BEST_THRESHOLD_BY_VAL_F1)\n",
    "# 1) бинaризация тестовых вероятностей новым порогом\n",
    "y_pred_test_opt = (y_score_test >= BEST_THRESHOLD_BY_VAL_F1).astype(int)\n",
    "\n",
    "# 2) быстрые метрики для контроля изменения\n",
    "from sklearn.metrics import accuracy_score, precision_score, recall_score, f1_score\n",
    "\n",
    "print(f\"[TEST] при пороге из VAL (thr={BEST_THRESHOLD_BY_VAL_F1:.3f})\")\n",
    "print(\"  Accuracy :\", accuracy_score(y_true_test, y_pred_test_opt))\n",
    "print(\"  Precision:\", precision_score(y_true_test, y_pred_test_opt, zero_division=0))\n",
    "print(\"  Recall   :\", recall_score(y_true_test, y_pred_test_opt, zero_division=0))\n",
    "print(\"  F1       :\", f1_score(y_true_test, y_pred_test_opt, zero_division=0))\n"
   ]
  },
  {
   "cell_type": "code",
   "execution_count": 39,
   "id": "a5198475-4c4f-412c-a3e0-1fe7ad28b066",
   "metadata": {},
   "outputs": [
    {
     "data": {
      "image/png": "[encoded data removed]",
      "text/plain": [
       "<Figure size 500x400 with 2 Axes>"
      ]
     },
     "metadata": {},
     "output_type": "display_data"
    },
    {
     "data": {
      "image/png": "[encoded data removed]",
      "text/plain": [
       "<Figure size 500x400 with 2 Axes>"
      ]
     },
     "metadata": {},
     "output_type": "display_data"
    }
   ],
   "source": [
    "# Визуализация новой матрицы ошибок\n",
    "# Используем ранее определённую функцию plot_confusion_matrix(...)\n",
    "\n",
    "# column-normalized — «чистота» предсказанных классов (Precision-проекция)\n",
    "plot_confusion_matrix(\n",
    "    y_true=y_true_test, y_pred=y_pred_test_opt,\n",
    "    labels=[\"neg (0)\", \"pos (1)\"],\n",
    "    normalize=\"col\", cmap=\"Oranges\",\n",
    "    title=f\"Column-normalized (thr={BEST_THRESHOLD_BY_VAL_F1:.3f}, Oranges)\"\n",
    ")\n",
    "\n",
    "# row-normalized — полнота по истинным классам (Recall-проекция)\n",
    "plot_confusion_matrix(\n",
    "    y_true=y_true_test, y_pred=y_pred_test_opt,\n",
    "    labels=[\"neg (0)\", \"pos (1)\"],\n",
    "    normalize=\"row\", cmap=\"Oranges\",\n",
    "    title=f\"Row-normalized (thr={BEST_THRESHOLD_BY_VAL_F1:.3f}, Oranges)\"\n",
    ")\n"
   ]
  },
  {
   "cell_type": "markdown",
   "id": "c9219546-0f73-4f25-8f85-6c623022f2a0",
   "metadata": {},
   "source": [
    "### Чтение матриц после смены порога\n",
    "\n",
    "- **Column-normalized**: диагональ показывает долю «верных внутри предсказанного класса» (точность по классам).  \n",
    "  Сдвиг порога вверх обычно повышает точность класса 1 и понижает полноту; порог вниз — наоборот.\n",
    "- **Row-normalized**: диагональ — доля «правильно найденных из данного истинного класса» (полнота по классам).  \n",
    "  Сравнение с матрицами «до порога» показывает, какой тип ошибок вырос: FP (верхняя правая ячейка) или FN (нижняя левая).\n",
    "\n",
    "**Замечания про баланс классов.**  \n",
    "При 50/50 и симметричных ошибках обе нормировки могут оставаться визуально близкими. На несбалансированных наборах различия между `row` и `col` обычно выражены сильнее.\n"
   ]
  },
  {
   "cell_type": "code",
   "execution_count": 40,
   "id": "d6a76227-e314-41ee-8039-72e24060c592",
   "metadata": {},
   "outputs": [
    {
     "data": {
      "image/png": "[encoded data removed]",
      "text/plain": [
       "<Figure size 500x400 with 1 Axes>"
      ]
     },
     "metadata": {},
     "output_type": "display_data"
    }
   ],
   "source": [
    "# Блок 6. ROC-кривая и AUC\n",
    "import matplotlib.pyplot as plt\n",
    "from sklearn.metrics import roc_curve, auc\n",
    "\n",
    "fpr, tpr, _ = roc_curve(y_true_test, y_score_test)\n",
    "roc_auc = auc(fpr, tpr)\n",
    "\n",
    "plt.figure(figsize=(5,4))\n",
    "plt.plot(fpr, tpr, label=f\"AUC = {roc_auc:.3f}\")\n",
    "plt.plot([0,1], [0,1], linestyle=\"--\", label=\"Random\")\n",
    "plt.xlabel(\"False Positive Rate\")\n",
    "plt.ylabel(\"True Positive Rate (Recall)\")\n",
    "plt.title(\"ROC curve\")\n",
    "plt.legend(loc=\"lower right\")\n",
    "plt.tight_layout(); plt.show()\n"
   ]
  },
  {
   "cell_type": "markdown",
   "id": "7da3df47-ff89-4cdb-aaaf-ceab75fc26bf",
   "metadata": {},
   "source": [
    "### Интерпретация ROC-кривой\n",
    "\n",
    "ROC-кривая отображает, как меняется полнота (True Positive Rate) при росте доли ложных срабатываний (False Positive Rate) при варьировании порога классификации.  \n",
    "- Диагональ (пунктир) соответствует случайному угадыванию.  \n",
    "- Чем дальше кривая отклоняется вверх-влево от диагонали, тем лучше модель различает классы.  \n",
    "- Площадь под кривой (AUC) равна вероятности того, что случайно выбранный позитив будет оценён выше случайного негатива.  \n",
    "- В данном случае AUC ≈ 0.82, что означает достаточно хорошее, но не идеальное качество ранжирования.\n"
   ]
  },
  {
   "cell_type": "code",
   "execution_count": 41,
   "id": "1383258d-be87-4e1f-8738-f82fbf0d0e8a",
   "metadata": {},
   "outputs": [
    {
     "data": {
      "image/png": "[encoded data removed]",
      "text/plain": [
       "<Figure size 500x400 with 1 Axes>"
      ]
     },
     "metadata": {},
     "output_type": "display_data"
    }
   ],
   "source": [
    "# Блок 7. PR-кривая и Average Precision\n",
    "import matplotlib.pyplot as plt\n",
    "from sklearn.metrics import precision_recall_curve, average_precision_score\n",
    "\n",
    "prec, rec, _ = precision_recall_curve(y_true_test, y_score_test)\n",
    "ap = average_precision_score(y_true_test, y_score_test)\n",
    "\n",
    "plt.figure(figsize=(5,4))\n",
    "plt.plot(rec, prec, label=f\"AP = {ap:.3f}\")\n",
    "plt.xlabel(\"Recall\"); plt.ylabel(\"Precision\")\n",
    "plt.title(\"Precision–Recall curve\")\n",
    "plt.legend(loc=\"lower left\")\n",
    "plt.tight_layout(); plt.show()\n"
   ]
  },
  {
   "cell_type": "markdown",
   "id": "60728ec0-4851-4cc2-9d34-43ce3fd7f348",
   "metadata": {},
   "source": [
    "### Интерпретация PR-кривой\n",
    "\n",
    "PR-кривая показывает соотношение точности (Precision) и полноты (Recall) при изменении порога классификации.  \n",
    "- Высокая точность при низкой полноте означает, что модель уверенно выделяет лишь часть позитивов.  \n",
    "- По мере роста полноты точность закономерно падает: чем больше найдено истинных объектов, тем больше появляется и ложных срабатываний.  \n",
    "- Площадь под кривой (AP ≈ 0.82) отражает средний баланс между точностью и полнотой.  \n",
    "- Чем выше кривая при данном уровне полноты, тем лучше модель. Значение около 0.82 указывает на достаточно хорошее качество предсказаний.\n"
   ]
  },
  {
   "cell_type": "code",
   "execution_count": 42,
   "id": "ce451aad-8cfd-442f-a42d-c3f1244dc7b5",
   "metadata": {},
   "outputs": [
    {
     "data": {
      "image/png": "[encoded data removed]",
      "text/plain": [
       "<Figure size 600x400 with 1 Axes>"
      ]
     },
     "metadata": {},
     "output_type": "display_data"
    }
   ],
   "source": [
    "# Блок 8. Метрики как функция порога (Precision / Recall / F1)\n",
    "import numpy as np\n",
    "import matplotlib.pyplot as plt\n",
    "from sklearn.metrics import precision_score, recall_score, f1_score\n",
    "\n",
    "threshold_grid = np.linspace(0, 1, 201)\n",
    "prec_vals, rec_vals, f1_vals = [], [], []\n",
    "for thr in threshold_grid:\n",
    "    y_pred = (y_score_test >= thr).astype(int)\n",
    "    prec_vals.append(precision_score(y_true_test, y_pred, zero_division=0))\n",
    "    rec_vals.append(recall_score(y_true_test, y_pred, zero_division=0))\n",
    "    f1_vals.append(f1_score(y_true_test, y_pred, zero_division=0))\n",
    "\n",
    "plt.figure(figsize=(6,4))\n",
    "plt.plot(threshold_grid, prec_vals, label=\"Precision\")\n",
    "plt.plot(threshold_grid, rec_vals,  label=\"Recall\")\n",
    "plt.plot(threshold_grid, f1_vals,   label=\"F1\")\n",
    "plt.xlabel(\"Threshold\"); plt.ylabel(\"Metric value\")\n",
    "plt.title(\"Metrics vs threshold\")\n",
    "plt.legend(); plt.tight_layout(); plt.show()\n"
   ]
  },
  {
   "cell_type": "markdown",
   "id": "c453a631-c6a0-4366-8a42-4f8e80edca26",
   "metadata": {},
   "source": [
    "### Интерпретация графика \"Metrics vs threshold\"\n",
    "\n",
    "На графике показано, как метрики Precision, Recall и F1 изменяются при сдвиге порога классификации:\n",
    "\n",
    "- При низком пороге модель почти всё относит к классу 1 → Recall близок к 1 (позитивы почти не теряются), но Precision низкий (много ложных срабатываний).  \n",
    "- При высоком пороге ситуация обратная: Precision стремится к 1 (ошибки почти исключены), но Recall падает к 0 (почти все позитивы пропущены).  \n",
    "- F1-кривая достигает максимума в промежуточной области, где точность и полнота находятся в разумном балансе.  \n",
    "- Такая визуализация помогает подобрать оптимальный порог под конкретные требования задачи (например, максимум F1 или приоритет Recall).\n"
   ]
  },
  {
   "cell_type": "code",
   "execution_count": null,
   "id": "5a50efc4-e319-4641-9ee8-2219b9e37310",
   "metadata": {},
   "outputs": [],
   "source": []
  }
 ],
 "metadata": {
  "kernelspec": {
   "display_name": "Python 3 (ipykernel)",
   "language": "python",
   "name": "python3"
  },
  "language_info": {
   "codemirror_mode": {
    "name": "ipython",
    "version": 3
   },
   "file_extension": ".py",
   "mimetype": "text/x-python",
   "name": "python",
   "nbconvert_exporter": "python",
   "pygments_lexer": "ipython3",
   "version": "3.12.3"
  }
 },
 "nbformat": 4,
 "nbformat_minor": 5
}
